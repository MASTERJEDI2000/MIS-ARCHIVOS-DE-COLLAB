{
  "nbformat": 4,
  "nbformat_minor": 0,
  "metadata": {
    "colab": {
      "provenance": [],
      "authorship_tag": "ABX9TyPHBT9qvjgN0OaDgnl6UPOP",
      "include_colab_link": true
    },
    "kernelspec": {
      "name": "python3",
      "display_name": "Python 3"
    },
    "language_info": {
      "name": "python"
    }
  },
  "cells": [
    {
      "cell_type": "markdown",
      "metadata": {
        "id": "view-in-github",
        "colab_type": "text"
      },
      "source": [
        "<a href=\"https://colab.research.google.com/github/MASTERJEDI2000/MIS-ARCHIVOS-DE-COLLAB/blob/main/fechas_python_JERC_1901607.ipynb\" target=\"_parent\"><img src=\"https://colab.research.google.com/assets/colab-badge.svg\" alt=\"Open In Colab\"/></a>"
      ]
    },
    {
      "cell_type": "markdown",
      "source": [
        "# Variables de tipo fecha/tiempo en python"
      ],
      "metadata": {
        "id": "_rLHeUEyYM81"
      }
    },
    {
      "cell_type": "markdown",
      "source": [
        "**Estadistica Aplicada**\n",
        "\n",
        "**José Emiliano Ramírez Campos 1901607**\n",
        "\n",
        "**Sesion 15 -  30 de Marzo de 2023**"
      ],
      "metadata": {
        "id": "m3CCysNkYVHE"
      }
    },
    {
      "cell_type": "markdown",
      "source": [
        "**Fechas en datetime**"
      ],
      "metadata": {
        "id": "3ZI3qna7YoJs"
      }
    },
    {
      "cell_type": "code",
      "source": [
        "#importar datetime\n",
        "from datetime import datetime"
      ],
      "metadata": {
        "id": "S9K57KNEYSBa"
      },
      "execution_count": null,
      "outputs": []
    },
    {
      "cell_type": "code",
      "source": [
        "# fecha hoy\n",
        "mi_year = 2023\n",
        "mi_mes = 3\n",
        "mi_dia = 30\n",
        "mi_hora = 15\n",
        "mi_minuto = 25\n",
        "mi_segundo = 30"
      ],
      "metadata": {
        "id": "CYA6oUe5Y4-7"
      },
      "execution_count": null,
      "outputs": []
    },
    {
      "cell_type": "code",
      "source": [
        "# formato fecha AÑO-MES-DIA\n",
        "mi_fecha = datetime(mi_year,mi_mes,mi_dia)"
      ],
      "metadata": {
        "id": "D9_wrHnWZPjx"
      },
      "execution_count": null,
      "outputs": []
    },
    {
      "cell_type": "code",
      "source": [
        "mi_fecha"
      ],
      "metadata": {
        "colab": {
          "base_uri": "https://localhost:8080/"
        },
        "id": "LS0n9z7sZiex",
        "outputId": "cecb949d-3bf8-4f70-d830-ef3230b5f86c"
      },
      "execution_count": null,
      "outputs": [
        {
          "output_type": "execute_result",
          "data": {
            "text/plain": [
              "datetime.datetime(2023, 3, 30, 0, 0)"
            ]
          },
          "metadata": {},
          "execution_count": 4
        }
      ]
    },
    {
      "cell_type": "code",
      "source": [
        "mi_fecha_hora = datetime(mi_year,mi_mes,mi_dia,mi_hora,mi_minuto,mi_segundo)"
      ],
      "metadata": {
        "id": "O9hqON54ZoGg"
      },
      "execution_count": null,
      "outputs": []
    },
    {
      "cell_type": "code",
      "source": [
        "mi_fecha_hora"
      ],
      "metadata": {
        "colab": {
          "base_uri": "https://localhost:8080/"
        },
        "id": "xwaqxn7yaBN6",
        "outputId": "1f0453c6-bfe1-4b9e-c2db-13aa1d8b7464"
      },
      "execution_count": null,
      "outputs": [
        {
          "output_type": "execute_result",
          "data": {
            "text/plain": [
              "datetime.datetime(2023, 3, 30, 15, 25, 30)"
            ]
          },
          "metadata": {},
          "execution_count": 7
        }
      ]
    },
    {
      "cell_type": "markdown",
      "source": [
        "una vez que una variable es de tipo fecha podemos acceder a sus componentes"
      ],
      "metadata": {
        "id": "1W2kLw2aaQny"
      }
    },
    {
      "cell_type": "code",
      "source": [
        "## acceder al año de mi_fecha_hora\n",
        "mi_fecha_hora.year"
      ],
      "metadata": {
        "colab": {
          "base_uri": "https://localhost:8080/"
        },
        "id": "ypK9tAZ1aP3I",
        "outputId": "7e93b026-7111-4ada-b646-540b574ccee4"
      },
      "execution_count": null,
      "outputs": [
        {
          "output_type": "execute_result",
          "data": {
            "text/plain": [
              "2023"
            ]
          },
          "metadata": {},
          "execution_count": 8
        }
      ]
    },
    {
      "cell_type": "code",
      "source": [
        "# acceder al mes de mi_fecha_hora\n",
        "mi_fecha_hora.month"
      ],
      "metadata": {
        "colab": {
          "base_uri": "https://localhost:8080/"
        },
        "id": "H2G5_im7ahTn",
        "outputId": "80c71bf0-76ba-4fd9-cd15-4879ecef66f0"
      },
      "execution_count": null,
      "outputs": [
        {
          "output_type": "execute_result",
          "data": {
            "text/plain": [
              "3"
            ]
          },
          "metadata": {},
          "execution_count": 9
        }
      ]
    },
    {
      "cell_type": "code",
      "source": [
        "# acceder al minuto mi_fecha_hora\n",
        "mi_fecha_hora.minute"
      ],
      "metadata": {
        "colab": {
          "base_uri": "https://localhost:8080/"
        },
        "id": "q7C2Ob89aoE_",
        "outputId": "04aa53a7-c7cd-44b9-8924-b36cb055a029"
      },
      "execution_count": null,
      "outputs": [
        {
          "output_type": "execute_result",
          "data": {
            "text/plain": [
              "25"
            ]
          },
          "metadata": {},
          "execution_count": 10
        }
      ]
    },
    {
      "cell_type": "markdown",
      "source": [
        "## Fechas en numpy"
      ],
      "metadata": {
        "id": "geOwG3DHa7fJ"
      }
    },
    {
      "cell_type": "code",
      "source": [
        "import numpy as np"
      ],
      "metadata": {
        "id": "81FcP2YDayyv"
      },
      "execution_count": 19,
      "outputs": []
    },
    {
      "cell_type": "code",
      "source": [
        "np.array(['2002-12-02','2001-09-11'],dtype='datetime64')"
      ],
      "metadata": {
        "colab": {
          "base_uri": "https://localhost:8080/"
        },
        "id": "k5-YZFiwbAyO",
        "outputId": "ceba1d66-54eb-45cc-9d1c-52f5e74d3c01"
      },
      "execution_count": 20,
      "outputs": [
        {
          "output_type": "execute_result",
          "data": {
            "text/plain": [
              "array(['2002-12-02', '2001-09-11'], dtype='datetime64[D]')"
            ]
          },
          "metadata": {},
          "execution_count": 20
        }
      ]
    },
    {
      "cell_type": "code",
      "source": [
        "np.array(['2002-12-02','2001-09-11'],dtype='datetime64[h]')"
      ],
      "metadata": {
        "colab": {
          "base_uri": "https://localhost:8080/"
        },
        "id": "Q2CU2yKsbtkt",
        "outputId": "a3d599aa-f138-49c6-d586-8cad7523cf7b"
      },
      "execution_count": 21,
      "outputs": [
        {
          "output_type": "execute_result",
          "data": {
            "text/plain": [
              "array(['2002-12-02T00', '2001-09-11T00'], dtype='datetime64[h]')"
            ]
          },
          "metadata": {},
          "execution_count": 21
        }
      ]
    },
    {
      "cell_type": "code",
      "source": [
        "np.array(['2002-12-02','2001-09-11'],dtype='datetime64[Y]')"
      ],
      "metadata": {
        "colab": {
          "base_uri": "https://localhost:8080/"
        },
        "id": "bcJaQZ8-b_9V",
        "outputId": "ece70c01-70a2-45b9-9b6a-0f51c6d822e0"
      },
      "execution_count": 22,
      "outputs": [
        {
          "output_type": "execute_result",
          "data": {
            "text/plain": [
              "array(['2002', '2001'], dtype='datetime64[Y]')"
            ]
          },
          "metadata": {},
          "execution_count": 22
        }
      ]
    },
    {
      "cell_type": "code",
      "source": [
        "np.array(['2002-12-02','2001-09-11'],dtype='datetime64[M]')"
      ],
      "metadata": {
        "id": "Yc7Om5hAcSJ0",
        "colab": {
          "base_uri": "https://localhost:8080/"
        },
        "outputId": "10cc5a12-c0ea-488d-dc31-2e99f15e6d3a"
      },
      "execution_count": 23,
      "outputs": [
        {
          "output_type": "execute_result",
          "data": {
            "text/plain": [
              "array(['2002-12', '2001-09'], dtype='datetime64[M]')"
            ]
          },
          "metadata": {},
          "execution_count": 23
        }
      ]
    },
    {
      "cell_type": "code",
      "source": [
        "np.arange('1985-04-12','2023-03-30',1,dtype='datetime64[Y]')"
      ],
      "metadata": {
        "colab": {
          "base_uri": "https://localhost:8080/"
        },
        "id": "FiHs6XWAdOQ_",
        "outputId": "246ea61d-5d18-49b2-efb1-ade87bc82771"
      },
      "execution_count": 25,
      "outputs": [
        {
          "output_type": "execute_result",
          "data": {
            "text/plain": [
              "array(['1985', '1986', '1987', '1988', '1989', '1990', '1991', '1992',\n",
              "       '1993', '1994', '1995', '1996', '1997', '1998', '1999', '2000',\n",
              "       '2001', '2002', '2003', '2004', '2005', '2006', '2007', '2008',\n",
              "       '2009', '2010', '2011', '2012', '2013', '2014', '2015', '2016',\n",
              "       '2017', '2018', '2019', '2020', '2021', '2022'],\n",
              "      dtype='datetime64[Y]')"
            ]
          },
          "metadata": {},
          "execution_count": 25
        }
      ]
    },
    {
      "cell_type": "code",
      "source": [
        "np.arange('2023-01-23','2023-03-30',7,dtype='datetime64[D]')"
      ],
      "metadata": {
        "colab": {
          "base_uri": "https://localhost:8080/"
        },
        "id": "TmgqUiGudcVt",
        "outputId": "3f6d6423-72d5-4d7e-f13b-ca3b00fb5102"
      },
      "execution_count": 26,
      "outputs": [
        {
          "output_type": "execute_result",
          "data": {
            "text/plain": [
              "array(['2023-01-23', '2023-01-30', '2023-02-06', '2023-02-13',\n",
              "       '2023-02-20', '2023-02-27', '2023-03-06', '2023-03-13',\n",
              "       '2023-03-20', '2023-03-27'], dtype='datetime64[D]')"
            ]
          },
          "metadata": {},
          "execution_count": 26
        }
      ]
    },
    {
      "cell_type": "markdown",
      "source": [
        "# Fechas en pandas"
      ],
      "metadata": {
        "id": "eGQdmzWKdstm"
      }
    },
    {
      "cell_type": "code",
      "source": [
        "import pandas as pd"
      ],
      "metadata": {
        "id": "bJAFh9-idqls"
      },
      "execution_count": 27,
      "outputs": []
    },
    {
      "cell_type": "code",
      "source": [
        "# La semana del 8 de julio de 2018\n",
        "semana8=pd.date_range('7/8/18',periods=7,freq='D')"
      ],
      "metadata": {
        "id": "sZeoRzT_dy00"
      },
      "execution_count": 28,
      "outputs": []
    },
    {
      "cell_type": "code",
      "source": [
        "semana8"
      ],
      "metadata": {
        "colab": {
          "base_uri": "https://localhost:8080/"
        },
        "id": "wkDEvk55eHmE",
        "outputId": "9ebcc802-d60a-494b-ff8b-10b445aea4db"
      },
      "execution_count": 29,
      "outputs": [
        {
          "output_type": "execute_result",
          "data": {
            "text/plain": [
              "DatetimeIndex(['2018-07-08', '2018-07-09', '2018-07-10', '2018-07-11',\n",
              "               '2018-07-12', '2018-07-13', '2018-07-14'],\n",
              "              dtype='datetime64[ns]', freq='D')"
            ]
          },
          "metadata": {},
          "execution_count": 29
        }
      ]
    },
    {
      "cell_type": "code",
      "source": [
        "#De que forma le podemos pasar fechas a pandas\n",
        "pd.to_datetime(['Apr 12, 2023','3/30/2023','01-Jan-2020'])"
      ],
      "metadata": {
        "colab": {
          "base_uri": "https://localhost:8080/"
        },
        "id": "_SOOCpUaeWtH",
        "outputId": "5f605f34-d446-4d32-ca8a-a733f4d439d8"
      },
      "execution_count": 30,
      "outputs": [
        {
          "output_type": "execute_result",
          "data": {
            "text/plain": [
              "DatetimeIndex(['2023-04-12', '2023-03-30', '2020-01-01'], dtype='datetime64[ns]', freq=None)"
            ]
          },
          "metadata": {},
          "execution_count": 30
        }
      ]
    },
    {
      "cell_type": "code",
      "source": [
        "algunas_fechas = np.array(['2023-01-12','2022-04-10'], dtype = 'datetime64[D]')\n",
        "algunas_fechas"
      ],
      "metadata": {
        "colab": {
          "base_uri": "https://localhost:8080/"
        },
        "id": "br1YmnijeIok",
        "outputId": "5f00f1f2-0225-416d-8bb1-9930d5173c2f"
      },
      "execution_count": 32,
      "outputs": [
        {
          "output_type": "execute_result",
          "data": {
            "text/plain": [
              "array(['2023-01-12', '2022-04-10'], dtype='datetime64[D]')"
            ]
          },
          "metadata": {},
          "execution_count": 32
        }
      ]
    },
    {
      "cell_type": "code",
      "source": [
        "#Las podemos usar en pandas\n",
        "algunas_fechas = pd.to_datetime(algunas_fechas)"
      ],
      "metadata": {
        "id": "XB-ak3EafnF5"
      },
      "execution_count": 36,
      "outputs": []
    },
    {
      "cell_type": "code",
      "source": [],
      "metadata": {
        "id": "-iflbS3hgisw"
      },
      "execution_count": null,
      "outputs": []
    }
  ]
}