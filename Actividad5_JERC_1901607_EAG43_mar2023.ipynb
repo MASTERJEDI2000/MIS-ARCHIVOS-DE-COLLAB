{
  "cells": [
    {
      "cell_type": "markdown",
      "metadata": {
        "id": "view-in-github",
        "colab_type": "text"
      },
      "source": [
        "<a href=\"https://colab.research.google.com/github/MASTERJEDI2000/MIS-ARCHIVOS-DE-COLLAB/blob/main/Actividad5_JERC_1901607_EAG43_mar2023.ipynb\" target=\"_parent\"><img src=\"https://colab.research.google.com/assets/colab-badge.svg\" alt=\"Open In Colab\"/></a>"
      ]
    },
    {
      "cell_type": "markdown",
      "id": "d24aba3c",
      "metadata": {
        "id": "d24aba3c"
      },
      "source": [
        "# JOSE EMILIANO RAMIREZ CAMPOS 1901607\n",
        "## ANALISIS DE SUPERVIVENCIA EN PYTHON\n",
        "### 13 DE MARZO DEL 2023"
      ]
    },
    {
      "cell_type": "markdown",
      "id": "1bbb543f",
      "metadata": {
        "id": "1bbb543f"
      },
      "source": [
        "#### Importamos las librerias"
      ]
    },
    {
      "cell_type": "code",
      "execution_count": null,
      "id": "4e895e49",
      "metadata": {
        "id": "4e895e49"
      },
      "outputs": [],
      "source": [
        "import numpy as np\n",
        "import pandas as pd\n",
        "import matplotlib.pyplot as plt\n",
        "from lifelines import ExponentialFitter\n",
        "%matplotlib inline"
      ]
    },
    {
      "cell_type": "code",
      "execution_count": null,
      "id": "081f3d7e",
      "metadata": {
        "colab": {
          "base_uri": "https://localhost:8080/"
        },
        "id": "081f3d7e",
        "outputId": "ee4bc115-8cb8-4cdc-b85f-1ab61ad77bf1"
      },
      "outputs": [
        {
          "output_type": "stream",
          "name": "stdout",
          "text": [
            "Looking in indexes: https://pypi.org/simple, https://us-python.pkg.dev/colab-wheels/public/simple/\n",
            "Collecting lifelines\n",
            "  Downloading lifelines-0.27.4-py3-none-any.whl (349 kB)\n",
            "\u001b[2K     \u001b[90m━━━━━━━━━━━━━━━━━━━━━━━━━━━━━━━━━━━━━━━\u001b[0m \u001b[32m349.7/349.7 KB\u001b[0m \u001b[31m4.6 MB/s\u001b[0m eta \u001b[36m0:00:00\u001b[0m\n",
            "\u001b[?25hRequirement already satisfied: scipy>=1.2.0 in /usr/local/lib/python3.9/dist-packages (from lifelines) (1.10.1)\n",
            "Collecting formulaic>=0.2.2\n",
            "  Downloading formulaic-0.5.2-py3-none-any.whl (77 kB)\n",
            "\u001b[2K     \u001b[90m━━━━━━━━━━━━━━━━━━━━━━━━━━━━━━━━━━━━━━━━\u001b[0m \u001b[32m77.1/77.1 KB\u001b[0m \u001b[31m2.7 MB/s\u001b[0m eta \u001b[36m0:00:00\u001b[0m\n",
            "\u001b[?25hRequirement already satisfied: pandas>=1.0.0 in /usr/local/lib/python3.9/dist-packages (from lifelines) (1.4.4)\n",
            "Collecting autograd-gamma>=0.3\n",
            "  Downloading autograd-gamma-0.5.0.tar.gz (4.0 kB)\n",
            "  Preparing metadata (setup.py) ... \u001b[?25l\u001b[?25hdone\n",
            "Requirement already satisfied: matplotlib>=3.0 in /usr/local/lib/python3.9/dist-packages (from lifelines) (3.7.1)\n",
            "Requirement already satisfied: numpy>=1.14.0 in /usr/local/lib/python3.9/dist-packages (from lifelines) (1.22.4)\n",
            "Requirement already satisfied: autograd>=1.5 in /usr/local/lib/python3.9/dist-packages (from lifelines) (1.5)\n",
            "Requirement already satisfied: future>=0.15.2 in /usr/local/lib/python3.9/dist-packages (from autograd>=1.5->lifelines) (0.16.0)\n",
            "Requirement already satisfied: wrapt>=1.0 in /usr/local/lib/python3.9/dist-packages (from formulaic>=0.2.2->lifelines) (1.15.0)\n",
            "Requirement already satisfied: typing-extensions>=4.2.0 in /usr/local/lib/python3.9/dist-packages (from formulaic>=0.2.2->lifelines) (4.5.0)\n",
            "Collecting astor>=0.8\n",
            "  Downloading astor-0.8.1-py2.py3-none-any.whl (27 kB)\n",
            "Collecting interface-meta>=1.2.0\n",
            "  Downloading interface_meta-1.3.0-py3-none-any.whl (14 kB)\n",
            "Requirement already satisfied: fonttools>=4.22.0 in /usr/local/lib/python3.9/dist-packages (from matplotlib>=3.0->lifelines) (4.39.0)\n",
            "Requirement already satisfied: cycler>=0.10 in /usr/local/lib/python3.9/dist-packages (from matplotlib>=3.0->lifelines) (0.11.0)\n",
            "Requirement already satisfied: importlib-resources>=3.2.0 in /usr/local/lib/python3.9/dist-packages (from matplotlib>=3.0->lifelines) (5.12.0)\n",
            "Requirement already satisfied: pillow>=6.2.0 in /usr/local/lib/python3.9/dist-packages (from matplotlib>=3.0->lifelines) (8.4.0)\n",
            "Requirement already satisfied: packaging>=20.0 in /usr/local/lib/python3.9/dist-packages (from matplotlib>=3.0->lifelines) (23.0)\n",
            "Requirement already satisfied: kiwisolver>=1.0.1 in /usr/local/lib/python3.9/dist-packages (from matplotlib>=3.0->lifelines) (1.4.4)\n",
            "Requirement already satisfied: contourpy>=1.0.1 in /usr/local/lib/python3.9/dist-packages (from matplotlib>=3.0->lifelines) (1.0.7)\n",
            "Requirement already satisfied: pyparsing>=2.3.1 in /usr/local/lib/python3.9/dist-packages (from matplotlib>=3.0->lifelines) (3.0.9)\n",
            "Requirement already satisfied: python-dateutil>=2.7 in /usr/local/lib/python3.9/dist-packages (from matplotlib>=3.0->lifelines) (2.8.2)\n",
            "Requirement already satisfied: pytz>=2020.1 in /usr/local/lib/python3.9/dist-packages (from pandas>=1.0.0->lifelines) (2022.7.1)\n",
            "Requirement already satisfied: zipp>=3.1.0 in /usr/local/lib/python3.9/dist-packages (from importlib-resources>=3.2.0->matplotlib>=3.0->lifelines) (3.15.0)\n",
            "Requirement already satisfied: six>=1.5 in /usr/local/lib/python3.9/dist-packages (from python-dateutil>=2.7->matplotlib>=3.0->lifelines) (1.15.0)\n",
            "Building wheels for collected packages: autograd-gamma\n",
            "  Building wheel for autograd-gamma (setup.py) ... \u001b[?25l\u001b[?25hdone\n",
            "  Created wheel for autograd-gamma: filename=autograd_gamma-0.5.0-py3-none-any.whl size=4049 sha256=28950222a70df379e07d2271a55d238972be952d990debc66f491597c0935a14\n",
            "  Stored in directory: /root/.cache/pip/wheels/a8/03/64/8557323821d25118c3a2dc1646996f7a962a8970d4b7d22473\n",
            "Successfully built autograd-gamma\n",
            "Installing collected packages: interface-meta, astor, autograd-gamma, formulaic, lifelines\n",
            "Successfully installed astor-0.8.1 autograd-gamma-0.5.0 formulaic-0.5.2 interface-meta-1.3.0 lifelines-0.27.4\n"
          ]
        }
      ],
      "source": [
        "!pip install lifelines"
      ]
    },
    {
      "cell_type": "code",
      "execution_count": null,
      "id": "70037409",
      "metadata": {
        "colab": {
          "base_uri": "https://localhost:8080/",
          "height": 73
        },
        "id": "70037409",
        "outputId": "78674415-55ff-44e2-fa54-49e03719dd9a"
      },
      "outputs": [
        {
          "output_type": "display_data",
          "data": {
            "text/plain": [
              "<IPython.core.display.HTML object>"
            ],
            "text/html": [
              "\n",
              "     <input type=\"file\" id=\"files-0766f4c5-684f-453a-89a2-84deac9f4c5d\" name=\"files[]\" multiple disabled\n",
              "        style=\"border:none\" />\n",
              "     <output id=\"result-0766f4c5-684f-453a-89a2-84deac9f4c5d\">\n",
              "      Upload widget is only available when the cell has been executed in the\n",
              "      current browser session. Please rerun this cell to enable.\n",
              "      </output>\n",
              "      <script>// Copyright 2017 Google LLC\n",
              "//\n",
              "// Licensed under the Apache License, Version 2.0 (the \"License\");\n",
              "// you may not use this file except in compliance with the License.\n",
              "// You may obtain a copy of the License at\n",
              "//\n",
              "//      http://www.apache.org/licenses/LICENSE-2.0\n",
              "//\n",
              "// Unless required by applicable law or agreed to in writing, software\n",
              "// distributed under the License is distributed on an \"AS IS\" BASIS,\n",
              "// WITHOUT WARRANTIES OR CONDITIONS OF ANY KIND, either express or implied.\n",
              "// See the License for the specific language governing permissions and\n",
              "// limitations under the License.\n",
              "\n",
              "/**\n",
              " * @fileoverview Helpers for google.colab Python module.\n",
              " */\n",
              "(function(scope) {\n",
              "function span(text, styleAttributes = {}) {\n",
              "  const element = document.createElement('span');\n",
              "  element.textContent = text;\n",
              "  for (const key of Object.keys(styleAttributes)) {\n",
              "    element.style[key] = styleAttributes[key];\n",
              "  }\n",
              "  return element;\n",
              "}\n",
              "\n",
              "// Max number of bytes which will be uploaded at a time.\n",
              "const MAX_PAYLOAD_SIZE = 100 * 1024;\n",
              "\n",
              "function _uploadFiles(inputId, outputId) {\n",
              "  const steps = uploadFilesStep(inputId, outputId);\n",
              "  const outputElement = document.getElementById(outputId);\n",
              "  // Cache steps on the outputElement to make it available for the next call\n",
              "  // to uploadFilesContinue from Python.\n",
              "  outputElement.steps = steps;\n",
              "\n",
              "  return _uploadFilesContinue(outputId);\n",
              "}\n",
              "\n",
              "// This is roughly an async generator (not supported in the browser yet),\n",
              "// where there are multiple asynchronous steps and the Python side is going\n",
              "// to poll for completion of each step.\n",
              "// This uses a Promise to block the python side on completion of each step,\n",
              "// then passes the result of the previous step as the input to the next step.\n",
              "function _uploadFilesContinue(outputId) {\n",
              "  const outputElement = document.getElementById(outputId);\n",
              "  const steps = outputElement.steps;\n",
              "\n",
              "  const next = steps.next(outputElement.lastPromiseValue);\n",
              "  return Promise.resolve(next.value.promise).then((value) => {\n",
              "    // Cache the last promise value to make it available to the next\n",
              "    // step of the generator.\n",
              "    outputElement.lastPromiseValue = value;\n",
              "    return next.value.response;\n",
              "  });\n",
              "}\n",
              "\n",
              "/**\n",
              " * Generator function which is called between each async step of the upload\n",
              " * process.\n",
              " * @param {string} inputId Element ID of the input file picker element.\n",
              " * @param {string} outputId Element ID of the output display.\n",
              " * @return {!Iterable<!Object>} Iterable of next steps.\n",
              " */\n",
              "function* uploadFilesStep(inputId, outputId) {\n",
              "  const inputElement = document.getElementById(inputId);\n",
              "  inputElement.disabled = false;\n",
              "\n",
              "  const outputElement = document.getElementById(outputId);\n",
              "  outputElement.innerHTML = '';\n",
              "\n",
              "  const pickedPromise = new Promise((resolve) => {\n",
              "    inputElement.addEventListener('change', (e) => {\n",
              "      resolve(e.target.files);\n",
              "    });\n",
              "  });\n",
              "\n",
              "  const cancel = document.createElement('button');\n",
              "  inputElement.parentElement.appendChild(cancel);\n",
              "  cancel.textContent = 'Cancel upload';\n",
              "  const cancelPromise = new Promise((resolve) => {\n",
              "    cancel.onclick = () => {\n",
              "      resolve(null);\n",
              "    };\n",
              "  });\n",
              "\n",
              "  // Wait for the user to pick the files.\n",
              "  const files = yield {\n",
              "    promise: Promise.race([pickedPromise, cancelPromise]),\n",
              "    response: {\n",
              "      action: 'starting',\n",
              "    }\n",
              "  };\n",
              "\n",
              "  cancel.remove();\n",
              "\n",
              "  // Disable the input element since further picks are not allowed.\n",
              "  inputElement.disabled = true;\n",
              "\n",
              "  if (!files) {\n",
              "    return {\n",
              "      response: {\n",
              "        action: 'complete',\n",
              "      }\n",
              "    };\n",
              "  }\n",
              "\n",
              "  for (const file of files) {\n",
              "    const li = document.createElement('li');\n",
              "    li.append(span(file.name, {fontWeight: 'bold'}));\n",
              "    li.append(span(\n",
              "        `(${file.type || 'n/a'}) - ${file.size} bytes, ` +\n",
              "        `last modified: ${\n",
              "            file.lastModifiedDate ? file.lastModifiedDate.toLocaleDateString() :\n",
              "                                    'n/a'} - `));\n",
              "    const percent = span('0% done');\n",
              "    li.appendChild(percent);\n",
              "\n",
              "    outputElement.appendChild(li);\n",
              "\n",
              "    const fileDataPromise = new Promise((resolve) => {\n",
              "      const reader = new FileReader();\n",
              "      reader.onload = (e) => {\n",
              "        resolve(e.target.result);\n",
              "      };\n",
              "      reader.readAsArrayBuffer(file);\n",
              "    });\n",
              "    // Wait for the data to be ready.\n",
              "    let fileData = yield {\n",
              "      promise: fileDataPromise,\n",
              "      response: {\n",
              "        action: 'continue',\n",
              "      }\n",
              "    };\n",
              "\n",
              "    // Use a chunked sending to avoid message size limits. See b/62115660.\n",
              "    let position = 0;\n",
              "    do {\n",
              "      const length = Math.min(fileData.byteLength - position, MAX_PAYLOAD_SIZE);\n",
              "      const chunk = new Uint8Array(fileData, position, length);\n",
              "      position += length;\n",
              "\n",
              "      const base64 = btoa(String.fromCharCode.apply(null, chunk));\n",
              "      yield {\n",
              "        response: {\n",
              "          action: 'append',\n",
              "          file: file.name,\n",
              "          data: base64,\n",
              "        },\n",
              "      };\n",
              "\n",
              "      let percentDone = fileData.byteLength === 0 ?\n",
              "          100 :\n",
              "          Math.round((position / fileData.byteLength) * 100);\n",
              "      percent.textContent = `${percentDone}% done`;\n",
              "\n",
              "    } while (position < fileData.byteLength);\n",
              "  }\n",
              "\n",
              "  // All done.\n",
              "  yield {\n",
              "    response: {\n",
              "      action: 'complete',\n",
              "    }\n",
              "  };\n",
              "}\n",
              "\n",
              "scope.google = scope.google || {};\n",
              "scope.google.colab = scope.google.colab || {};\n",
              "scope.google.colab._files = {\n",
              "  _uploadFiles,\n",
              "  _uploadFilesContinue,\n",
              "};\n",
              "})(self);\n",
              "</script> "
            ]
          },
          "metadata": {}
        },
        {
          "output_type": "stream",
          "name": "stdout",
          "text": [
            "Saving supervivencia_examenes.xlsx to supervivencia_examenes.xlsx\n"
          ]
        }
      ],
      "source": [
        "from google.colab import files\n",
        "uploaded = files.upload()"
      ]
    },
    {
      "cell_type": "code",
      "execution_count": null,
      "id": "fad40148",
      "metadata": {
        "id": "fad40148",
        "outputId": "977b4987-5b11-4ae6-fd1d-9f767aec3f7d",
        "colab": {
          "base_uri": "https://localhost:8080/",
          "height": 582
        }
      },
      "outputs": [
        {
          "output_type": "execute_result",
          "data": {
            "text/plain": [
              "    id  tiempo  examen  calificación género\n",
              "0    1      85       1         100.0      m\n",
              "1    2     109       1         100.0      m\n",
              "2    3     118       1         100.0      m\n",
              "3    4     120       1         100.0      f\n",
              "4    5     106       1          98.0      f\n",
              "5    6     103       1          98.0      m\n",
              "6    7     108       1          96.0      f\n",
              "7    8     119       1          96.0      f\n",
              "8    9     115       1          96.0      f\n",
              "9   10     108       1          94.0      f\n",
              "10  11      87       1          88.0      m\n",
              "11  12      99       1          86.0      f\n",
              "12  13     112       1          84.0      m\n",
              "13  14     111       1          82.0      m\n",
              "14  15      90       1          78.0      f\n",
              "15  16     116       1          74.0      m\n",
              "16  17     119       1          72.0      m"
            ],
            "text/html": [
              "\n",
              "  <div id=\"df-56197491-1881-4c0c-90a9-7f096906542f\">\n",
              "    <div class=\"colab-df-container\">\n",
              "      <div>\n",
              "<style scoped>\n",
              "    .dataframe tbody tr th:only-of-type {\n",
              "        vertical-align: middle;\n",
              "    }\n",
              "\n",
              "    .dataframe tbody tr th {\n",
              "        vertical-align: top;\n",
              "    }\n",
              "\n",
              "    .dataframe thead th {\n",
              "        text-align: right;\n",
              "    }\n",
              "</style>\n",
              "<table border=\"1\" class=\"dataframe\">\n",
              "  <thead>\n",
              "    <tr style=\"text-align: right;\">\n",
              "      <th></th>\n",
              "      <th>id</th>\n",
              "      <th>tiempo</th>\n",
              "      <th>examen</th>\n",
              "      <th>calificación</th>\n",
              "      <th>género</th>\n",
              "    </tr>\n",
              "  </thead>\n",
              "  <tbody>\n",
              "    <tr>\n",
              "      <th>0</th>\n",
              "      <td>1</td>\n",
              "      <td>85</td>\n",
              "      <td>1</td>\n",
              "      <td>100.0</td>\n",
              "      <td>m</td>\n",
              "    </tr>\n",
              "    <tr>\n",
              "      <th>1</th>\n",
              "      <td>2</td>\n",
              "      <td>109</td>\n",
              "      <td>1</td>\n",
              "      <td>100.0</td>\n",
              "      <td>m</td>\n",
              "    </tr>\n",
              "    <tr>\n",
              "      <th>2</th>\n",
              "      <td>3</td>\n",
              "      <td>118</td>\n",
              "      <td>1</td>\n",
              "      <td>100.0</td>\n",
              "      <td>m</td>\n",
              "    </tr>\n",
              "    <tr>\n",
              "      <th>3</th>\n",
              "      <td>4</td>\n",
              "      <td>120</td>\n",
              "      <td>1</td>\n",
              "      <td>100.0</td>\n",
              "      <td>f</td>\n",
              "    </tr>\n",
              "    <tr>\n",
              "      <th>4</th>\n",
              "      <td>5</td>\n",
              "      <td>106</td>\n",
              "      <td>1</td>\n",
              "      <td>98.0</td>\n",
              "      <td>f</td>\n",
              "    </tr>\n",
              "    <tr>\n",
              "      <th>5</th>\n",
              "      <td>6</td>\n",
              "      <td>103</td>\n",
              "      <td>1</td>\n",
              "      <td>98.0</td>\n",
              "      <td>m</td>\n",
              "    </tr>\n",
              "    <tr>\n",
              "      <th>6</th>\n",
              "      <td>7</td>\n",
              "      <td>108</td>\n",
              "      <td>1</td>\n",
              "      <td>96.0</td>\n",
              "      <td>f</td>\n",
              "    </tr>\n",
              "    <tr>\n",
              "      <th>7</th>\n",
              "      <td>8</td>\n",
              "      <td>119</td>\n",
              "      <td>1</td>\n",
              "      <td>96.0</td>\n",
              "      <td>f</td>\n",
              "    </tr>\n",
              "    <tr>\n",
              "      <th>8</th>\n",
              "      <td>9</td>\n",
              "      <td>115</td>\n",
              "      <td>1</td>\n",
              "      <td>96.0</td>\n",
              "      <td>f</td>\n",
              "    </tr>\n",
              "    <tr>\n",
              "      <th>9</th>\n",
              "      <td>10</td>\n",
              "      <td>108</td>\n",
              "      <td>1</td>\n",
              "      <td>94.0</td>\n",
              "      <td>f</td>\n",
              "    </tr>\n",
              "    <tr>\n",
              "      <th>10</th>\n",
              "      <td>11</td>\n",
              "      <td>87</td>\n",
              "      <td>1</td>\n",
              "      <td>88.0</td>\n",
              "      <td>m</td>\n",
              "    </tr>\n",
              "    <tr>\n",
              "      <th>11</th>\n",
              "      <td>12</td>\n",
              "      <td>99</td>\n",
              "      <td>1</td>\n",
              "      <td>86.0</td>\n",
              "      <td>f</td>\n",
              "    </tr>\n",
              "    <tr>\n",
              "      <th>12</th>\n",
              "      <td>13</td>\n",
              "      <td>112</td>\n",
              "      <td>1</td>\n",
              "      <td>84.0</td>\n",
              "      <td>m</td>\n",
              "    </tr>\n",
              "    <tr>\n",
              "      <th>13</th>\n",
              "      <td>14</td>\n",
              "      <td>111</td>\n",
              "      <td>1</td>\n",
              "      <td>82.0</td>\n",
              "      <td>m</td>\n",
              "    </tr>\n",
              "    <tr>\n",
              "      <th>14</th>\n",
              "      <td>15</td>\n",
              "      <td>90</td>\n",
              "      <td>1</td>\n",
              "      <td>78.0</td>\n",
              "      <td>f</td>\n",
              "    </tr>\n",
              "    <tr>\n",
              "      <th>15</th>\n",
              "      <td>16</td>\n",
              "      <td>116</td>\n",
              "      <td>1</td>\n",
              "      <td>74.0</td>\n",
              "      <td>m</td>\n",
              "    </tr>\n",
              "    <tr>\n",
              "      <th>16</th>\n",
              "      <td>17</td>\n",
              "      <td>119</td>\n",
              "      <td>1</td>\n",
              "      <td>72.0</td>\n",
              "      <td>m</td>\n",
              "    </tr>\n",
              "  </tbody>\n",
              "</table>\n",
              "</div>\n",
              "      <button class=\"colab-df-convert\" onclick=\"convertToInteractive('df-56197491-1881-4c0c-90a9-7f096906542f')\"\n",
              "              title=\"Convert this dataframe to an interactive table.\"\n",
              "              style=\"display:none;\">\n",
              "        \n",
              "  <svg xmlns=\"http://www.w3.org/2000/svg\" height=\"24px\"viewBox=\"0 0 24 24\"\n",
              "       width=\"24px\">\n",
              "    <path d=\"M0 0h24v24H0V0z\" fill=\"none\"/>\n",
              "    <path d=\"M18.56 5.44l.94 2.06.94-2.06 2.06-.94-2.06-.94-.94-2.06-.94 2.06-2.06.94zm-11 1L8.5 8.5l.94-2.06 2.06-.94-2.06-.94L8.5 2.5l-.94 2.06-2.06.94zm10 10l.94 2.06.94-2.06 2.06-.94-2.06-.94-.94-2.06-.94 2.06-2.06.94z\"/><path d=\"M17.41 7.96l-1.37-1.37c-.4-.4-.92-.59-1.43-.59-.52 0-1.04.2-1.43.59L10.3 9.45l-7.72 7.72c-.78.78-.78 2.05 0 2.83L4 21.41c.39.39.9.59 1.41.59.51 0 1.02-.2 1.41-.59l7.78-7.78 2.81-2.81c.8-.78.8-2.07 0-2.86zM5.41 20L4 18.59l7.72-7.72 1.47 1.35L5.41 20z\"/>\n",
              "  </svg>\n",
              "      </button>\n",
              "      \n",
              "  <style>\n",
              "    .colab-df-container {\n",
              "      display:flex;\n",
              "      flex-wrap:wrap;\n",
              "      gap: 12px;\n",
              "    }\n",
              "\n",
              "    .colab-df-convert {\n",
              "      background-color: #E8F0FE;\n",
              "      border: none;\n",
              "      border-radius: 50%;\n",
              "      cursor: pointer;\n",
              "      display: none;\n",
              "      fill: #1967D2;\n",
              "      height: 32px;\n",
              "      padding: 0 0 0 0;\n",
              "      width: 32px;\n",
              "    }\n",
              "\n",
              "    .colab-df-convert:hover {\n",
              "      background-color: #E2EBFA;\n",
              "      box-shadow: 0px 1px 2px rgba(60, 64, 67, 0.3), 0px 1px 3px 1px rgba(60, 64, 67, 0.15);\n",
              "      fill: #174EA6;\n",
              "    }\n",
              "\n",
              "    [theme=dark] .colab-df-convert {\n",
              "      background-color: #3B4455;\n",
              "      fill: #D2E3FC;\n",
              "    }\n",
              "\n",
              "    [theme=dark] .colab-df-convert:hover {\n",
              "      background-color: #434B5C;\n",
              "      box-shadow: 0px 1px 3px 1px rgba(0, 0, 0, 0.15);\n",
              "      filter: drop-shadow(0px 1px 2px rgba(0, 0, 0, 0.3));\n",
              "      fill: #FFFFFF;\n",
              "    }\n",
              "  </style>\n",
              "\n",
              "      <script>\n",
              "        const buttonEl =\n",
              "          document.querySelector('#df-56197491-1881-4c0c-90a9-7f096906542f button.colab-df-convert');\n",
              "        buttonEl.style.display =\n",
              "          google.colab.kernel.accessAllowed ? 'block' : 'none';\n",
              "\n",
              "        async function convertToInteractive(key) {\n",
              "          const element = document.querySelector('#df-56197491-1881-4c0c-90a9-7f096906542f');\n",
              "          const dataTable =\n",
              "            await google.colab.kernel.invokeFunction('convertToInteractive',\n",
              "                                                     [key], {});\n",
              "          if (!dataTable) return;\n",
              "\n",
              "          const docLinkHtml = 'Like what you see? Visit the ' +\n",
              "            '<a target=\"_blank\" href=https://colab.research.google.com/notebooks/data_table.ipynb>data table notebook</a>'\n",
              "            + ' to learn more about interactive tables.';\n",
              "          element.innerHTML = '';\n",
              "          dataTable['output_type'] = 'display_data';\n",
              "          await google.colab.output.renderOutput(dataTable, element);\n",
              "          const docLink = document.createElement('div');\n",
              "          docLink.innerHTML = docLinkHtml;\n",
              "          element.appendChild(docLink);\n",
              "        }\n",
              "      </script>\n",
              "    </div>\n",
              "  </div>\n",
              "  "
            ]
          },
          "metadata": {},
          "execution_count": 5
        }
      ],
      "source": [
        "examenes=pd.read_excel('supervivencia_examenes.xlsx')\n",
        "examenes"
      ]
    },
    {
      "cell_type": "code",
      "execution_count": null,
      "id": "9b2d9e0c",
      "metadata": {
        "id": "9b2d9e0c",
        "outputId": "b36527bb-5e54-4876-eb9c-3bc78b6831d5",
        "colab": {
          "base_uri": "https://localhost:8080/"
        }
      },
      "outputs": [
        {
          "output_type": "execute_result",
          "data": {
            "text/plain": [
              "(17, 5)"
            ]
          },
          "metadata": {},
          "execution_count": 6
        }
      ],
      "source": [
        "examenes.shape"
      ]
    },
    {
      "cell_type": "markdown",
      "id": "d23a8cfd",
      "metadata": {
        "id": "d23a8cfd"
      },
      "source": [
        "# a) ESTADISTICAS DESCRIPTIVAS"
      ]
    },
    {
      "cell_type": "markdown",
      "id": "3181c871",
      "metadata": {
        "id": "3181c871"
      },
      "source": [
        "##### TIEMPO PROMEDIO"
      ]
    },
    {
      "cell_type": "code",
      "execution_count": null,
      "id": "cb418473",
      "metadata": {
        "id": "cb418473",
        "outputId": "f612d234-421f-47a6-cc4a-14fc07f4559c",
        "colab": {
          "base_uri": "https://localhost:8080/"
        }
      },
      "outputs": [
        {
          "output_type": "execute_result",
          "data": {
            "text/plain": [
              "107.35"
            ]
          },
          "metadata": {},
          "execution_count": 7
        }
      ],
      "source": [
        "round(examenes['tiempo'].mean(),2)"
      ]
    },
    {
      "cell_type": "markdown",
      "id": "41922baa",
      "metadata": {
        "id": "41922baa"
      },
      "source": [
        "##### CALIFICACION PROMEDIO"
      ]
    },
    {
      "cell_type": "code",
      "execution_count": null,
      "id": "27b26c09",
      "metadata": {
        "id": "27b26c09",
        "outputId": "ab54b5be-7bbc-4023-c076-28eaabcbbfb4",
        "colab": {
          "base_uri": "https://localhost:8080/"
        }
      },
      "outputs": [
        {
          "output_type": "execute_result",
          "data": {
            "text/plain": [
              "90.71"
            ]
          },
          "metadata": {},
          "execution_count": 8
        }
      ],
      "source": [
        "round(examenes['calificación'].mean(),2)"
      ]
    },
    {
      "cell_type": "markdown",
      "id": "7f305e57",
      "metadata": {
        "id": "7f305e57"
      },
      "source": [
        "#### *MUJERES Y HOMBRES : TIEMPO Y CALIFICACION PROMEDIO*"
      ]
    },
    {
      "cell_type": "code",
      "execution_count": null,
      "id": "2c15c47d",
      "metadata": {
        "id": "2c15c47d",
        "outputId": "fca464b8-caa0-46ee-bf4c-989281131e8e",
        "colab": {
          "base_uri": "https://localhost:8080/",
          "height": 143
        }
      },
      "outputs": [
        {
          "output_type": "execute_result",
          "data": {
            "text/plain": [
              "        tiempo  calificación\n",
              "género                      \n",
              "f       108.12         93.00\n",
              "m       106.67         88.67"
            ],
            "text/html": [
              "\n",
              "  <div id=\"df-88809ff7-6889-4976-9928-4730685344be\">\n",
              "    <div class=\"colab-df-container\">\n",
              "      <div>\n",
              "<style scoped>\n",
              "    .dataframe tbody tr th:only-of-type {\n",
              "        vertical-align: middle;\n",
              "    }\n",
              "\n",
              "    .dataframe tbody tr th {\n",
              "        vertical-align: top;\n",
              "    }\n",
              "\n",
              "    .dataframe thead th {\n",
              "        text-align: right;\n",
              "    }\n",
              "</style>\n",
              "<table border=\"1\" class=\"dataframe\">\n",
              "  <thead>\n",
              "    <tr style=\"text-align: right;\">\n",
              "      <th></th>\n",
              "      <th>tiempo</th>\n",
              "      <th>calificación</th>\n",
              "    </tr>\n",
              "    <tr>\n",
              "      <th>género</th>\n",
              "      <th></th>\n",
              "      <th></th>\n",
              "    </tr>\n",
              "  </thead>\n",
              "  <tbody>\n",
              "    <tr>\n",
              "      <th>f</th>\n",
              "      <td>108.12</td>\n",
              "      <td>93.00</td>\n",
              "    </tr>\n",
              "    <tr>\n",
              "      <th>m</th>\n",
              "      <td>106.67</td>\n",
              "      <td>88.67</td>\n",
              "    </tr>\n",
              "  </tbody>\n",
              "</table>\n",
              "</div>\n",
              "      <button class=\"colab-df-convert\" onclick=\"convertToInteractive('df-88809ff7-6889-4976-9928-4730685344be')\"\n",
              "              title=\"Convert this dataframe to an interactive table.\"\n",
              "              style=\"display:none;\">\n",
              "        \n",
              "  <svg xmlns=\"http://www.w3.org/2000/svg\" height=\"24px\"viewBox=\"0 0 24 24\"\n",
              "       width=\"24px\">\n",
              "    <path d=\"M0 0h24v24H0V0z\" fill=\"none\"/>\n",
              "    <path d=\"M18.56 5.44l.94 2.06.94-2.06 2.06-.94-2.06-.94-.94-2.06-.94 2.06-2.06.94zm-11 1L8.5 8.5l.94-2.06 2.06-.94-2.06-.94L8.5 2.5l-.94 2.06-2.06.94zm10 10l.94 2.06.94-2.06 2.06-.94-2.06-.94-.94-2.06-.94 2.06-2.06.94z\"/><path d=\"M17.41 7.96l-1.37-1.37c-.4-.4-.92-.59-1.43-.59-.52 0-1.04.2-1.43.59L10.3 9.45l-7.72 7.72c-.78.78-.78 2.05 0 2.83L4 21.41c.39.39.9.59 1.41.59.51 0 1.02-.2 1.41-.59l7.78-7.78 2.81-2.81c.8-.78.8-2.07 0-2.86zM5.41 20L4 18.59l7.72-7.72 1.47 1.35L5.41 20z\"/>\n",
              "  </svg>\n",
              "      </button>\n",
              "      \n",
              "  <style>\n",
              "    .colab-df-container {\n",
              "      display:flex;\n",
              "      flex-wrap:wrap;\n",
              "      gap: 12px;\n",
              "    }\n",
              "\n",
              "    .colab-df-convert {\n",
              "      background-color: #E8F0FE;\n",
              "      border: none;\n",
              "      border-radius: 50%;\n",
              "      cursor: pointer;\n",
              "      display: none;\n",
              "      fill: #1967D2;\n",
              "      height: 32px;\n",
              "      padding: 0 0 0 0;\n",
              "      width: 32px;\n",
              "    }\n",
              "\n",
              "    .colab-df-convert:hover {\n",
              "      background-color: #E2EBFA;\n",
              "      box-shadow: 0px 1px 2px rgba(60, 64, 67, 0.3), 0px 1px 3px 1px rgba(60, 64, 67, 0.15);\n",
              "      fill: #174EA6;\n",
              "    }\n",
              "\n",
              "    [theme=dark] .colab-df-convert {\n",
              "      background-color: #3B4455;\n",
              "      fill: #D2E3FC;\n",
              "    }\n",
              "\n",
              "    [theme=dark] .colab-df-convert:hover {\n",
              "      background-color: #434B5C;\n",
              "      box-shadow: 0px 1px 3px 1px rgba(0, 0, 0, 0.15);\n",
              "      filter: drop-shadow(0px 1px 2px rgba(0, 0, 0, 0.3));\n",
              "      fill: #FFFFFF;\n",
              "    }\n",
              "  </style>\n",
              "\n",
              "      <script>\n",
              "        const buttonEl =\n",
              "          document.querySelector('#df-88809ff7-6889-4976-9928-4730685344be button.colab-df-convert');\n",
              "        buttonEl.style.display =\n",
              "          google.colab.kernel.accessAllowed ? 'block' : 'none';\n",
              "\n",
              "        async function convertToInteractive(key) {\n",
              "          const element = document.querySelector('#df-88809ff7-6889-4976-9928-4730685344be');\n",
              "          const dataTable =\n",
              "            await google.colab.kernel.invokeFunction('convertToInteractive',\n",
              "                                                     [key], {});\n",
              "          if (!dataTable) return;\n",
              "\n",
              "          const docLinkHtml = 'Like what you see? Visit the ' +\n",
              "            '<a target=\"_blank\" href=https://colab.research.google.com/notebooks/data_table.ipynb>data table notebook</a>'\n",
              "            + ' to learn more about interactive tables.';\n",
              "          element.innerHTML = '';\n",
              "          dataTable['output_type'] = 'display_data';\n",
              "          await google.colab.output.renderOutput(dataTable, element);\n",
              "          const docLink = document.createElement('div');\n",
              "          docLink.innerHTML = docLinkHtml;\n",
              "          element.appendChild(docLink);\n",
              "        }\n",
              "      </script>\n",
              "    </div>\n",
              "  </div>\n",
              "  "
            ]
          },
          "metadata": {},
          "execution_count": 9
        }
      ],
      "source": [
        "alfa=examenes.groupby('género').mean().round(2) [['tiempo','calificación']]\n",
        "alfa"
      ]
    },
    {
      "cell_type": "code",
      "execution_count": null,
      "id": "f6f53f68",
      "metadata": {
        "id": "f6f53f68",
        "outputId": "1679ac5a-05bd-4222-d74b-9c8aeada328c",
        "colab": {
          "base_uri": "https://localhost:8080/"
        }
      },
      "outputs": [
        {
          "output_type": "stream",
          "name": "stdout",
          "text": [
            "Las mujeres contestaron el examen en un tiempo promedio:  108.12 minutos con calificacion promedio de:  93.0\n",
            "Las hombres contestaron el examen en un tiempo promedio:  106.67 minutos con calificacion promedio de:  88.67\n",
            "Los hombres lo contestaron mas rapido\n"
          ]
        }
      ],
      "source": [
        "#cuad1=examenes[examenes[]]\n",
        "print('Las mujeres contestaron el examen en un tiempo promedio: ',str(alfa.iloc[0,0])+' minutos' ,'con calificacion promedio de: ',str(alfa.iloc[0,1]) )\n",
        "print('Las hombres contestaron el examen en un tiempo promedio: ',str(alfa.iloc[1,0])+' minutos','con calificacion promedio de: ',str(alfa.iloc[1,1]) )\n",
        "if alfa.iloc[0,0]<alfa.iloc[1,0]:\n",
        "    print('Las mujeres lo contestaron mas rapido')\n",
        "else: \n",
        "    print('Los hombres lo contestaron mas rapido')"
      ]
    },
    {
      "cell_type": "markdown",
      "id": "6cfd0664",
      "metadata": {
        "id": "6cfd0664"
      },
      "source": [
        "# b)"
      ]
    },
    {
      "cell_type": "markdown",
      "id": "050d0d4d",
      "metadata": {
        "id": "050d0d4d"
      },
      "source": [
        "#### Supongo que el riesgo de entregar el examen se comporta de manera constante -> Ajusto modelo exponencial"
      ]
    },
    {
      "cell_type": "markdown",
      "id": "c7fd9e5d",
      "metadata": {
        "id": "c7fd9e5d"
      },
      "source": [
        "## $ Estimador Propuesto $ $\\hat{\\lambda}=\\frac{\\sum\\delta_i} {\\sum t_i} $ "
      ]
    },
    {
      "cell_type": "code",
      "execution_count": null,
      "id": "4b0968d1",
      "metadata": {
        "id": "4b0968d1",
        "outputId": "75211e08-2f26-4caa-e9d8-b198603def55",
        "colab": {
          "base_uri": "https://localhost:8080/"
        }
      },
      "outputs": [
        {
          "output_type": "execute_result",
          "data": {
            "text/plain": [
              "0.009315068493150684"
            ]
          },
          "metadata": {},
          "execution_count": 11
        }
      ],
      "source": [
        "_lambda = examenes['examen'].sum()/examenes['tiempo'].sum()\n",
        "_lambda"
      ]
    },
    {
      "cell_type": "code",
      "execution_count": null,
      "id": "74b44ad8",
      "metadata": {
        "id": "74b44ad8"
      },
      "outputs": [],
      "source": [
        "ex1=ExponentialFitter().fit(examenes['tiempo'],examenes['examen'])"
      ]
    },
    {
      "cell_type": "code",
      "execution_count": null,
      "id": "34ec4f9c",
      "metadata": {
        "id": "34ec4f9c",
        "outputId": "7b4bb508-b327-4402-d9ac-af8b0e5fa332",
        "colab": {
          "base_uri": "https://localhost:8080/",
          "height": 286
        }
      },
      "outputs": [
        {
          "output_type": "display_data",
          "data": {
            "text/plain": [
              "<Figure size 504x288 with 1 Axes>"
            ],
            "image/png": "[encoded data removed]"
          },
          "metadata": {
            "needs_background": "light"
          }
        }
      ],
      "source": [
        "plt.figure(figsize=(7,4))\n",
        "ex1.plot_hazard(label='Funcion de riesgo',color='springgreen').legend(fontsize=15);\n",
        "plt.ylim(0,0.05);\n",
        "plt.xlabel('Tiempo',fontsize=12, fontweight=\"bold\");\n",
        "plt.ylabel('h(t)',fontsize=12, fontweight=\"bold\");"
      ]
    },
    {
      "cell_type": "markdown",
      "id": "23856a97",
      "metadata": {
        "id": "23856a97"
      },
      "source": [
        "# C)"
      ]
    },
    {
      "cell_type": "code",
      "execution_count": null,
      "id": "c42e2a53",
      "metadata": {
        "id": "c42e2a53"
      },
      "outputs": [],
      "source": [
        "muj=examenes[examenes['género']=='f'] #Tabla de mujeres\n",
        "exmuj=ExponentialFitter().fit(muj['tiempo'],muj['examen']) #AJUSTO MODELO\n",
        "homb=examenes[examenes['género']=='m'] #Tabla de hombres\n",
        "exhomb=ExponentialFitter().fit(homb['tiempo'],homb['examen']) # AJUSTO MODELO"
      ]
    },
    {
      "cell_type": "code",
      "execution_count": null,
      "id": "3598e46b",
      "metadata": {
        "id": "3598e46b",
        "outputId": "9636b5f0-0971-429d-a20d-f85bd10c9c73",
        "colab": {
          "base_uri": "https://localhost:8080/",
          "height": 286
        }
      },
      "outputs": [
        {
          "output_type": "display_data",
          "data": {
            "text/plain": [
              "<Figure size 432x288 with 1 Axes>"
            ],
            "image/png": "[encoded data removed]"
          },
          "metadata": {
            "needs_background": "light"
          }
        }
      ],
      "source": [
        "exmuj.plot_survival_function(label='Funcion de Supervivencia  MUJERES',color='LIGHTpink').legend(fontsize=13);\n",
        "plt.ylim(0,1);\n",
        "plt.xlabel('Tiempo',fontsize=12, fontweight=\"bold\");\n",
        "plt.ylabel('S(t)',fontsize=12, fontweight=\"bold\");"
      ]
    },
    {
      "cell_type": "code",
      "execution_count": null,
      "id": "a306a24d",
      "metadata": {
        "id": "a306a24d",
        "outputId": "e7f17450-4ada-48b3-bddb-8e1ae08cab4e",
        "colab": {
          "base_uri": "https://localhost:8080/",
          "height": 286
        }
      },
      "outputs": [
        {
          "output_type": "display_data",
          "data": {
            "text/plain": [
              "<Figure size 432x288 with 1 Axes>"
            ],
            "image/png": "[encoded data removed]"
          },
          "metadata": {
            "needs_background": "light"
          }
        }
      ],
      "source": [
        "exhomb.plot_survival_function(label='Funcion de Supervivencia HOMBRES',color='LIGHTblue').legend(fontsize=13);\n",
        "plt.ylim(0,1);\n",
        "plt.xlabel('Tiempo',fontsize=12, fontweight=\"bold\");\n",
        "plt.ylabel('S(t)',fontsize=12, fontweight=\"bold\");"
      ]
    },
    {
      "cell_type": "markdown",
      "id": "cba618f1",
      "metadata": {
        "id": "cba618f1"
      },
      "source": [
        "#### EMPALMO"
      ]
    },
    {
      "cell_type": "code",
      "execution_count": null,
      "id": "6cc1f2da",
      "metadata": {
        "id": "6cc1f2da",
        "outputId": "58077540-cfe3-4bab-c984-d20618c3ed74",
        "colab": {
          "base_uri": "https://localhost:8080/",
          "height": 313
        }
      },
      "outputs": [
        {
          "output_type": "display_data",
          "data": {
            "text/plain": [
              "<Figure size 432x288 with 1 Axes>"
            ],
            "image/png": "[encoded data removed]"
          },
          "metadata": {
            "needs_background": "light"
          }
        }
      ],
      "source": [
        "exhomb.plot_survival_function(label='Funcion de Supervivencia HOMBRES',color='LIGHTblue').legend(fontsize=10);\n",
        "exmuj.plot_survival_function(label='Funcion de Supervivencia  MUJERES',color='LIGHTpink').legend(fontsize=10);\n",
        "plt.title('Función de supervivencia HOMBRES vs MUJERES,\\n Intervalos al 95%')\n",
        "plt.ylabel('$S(t)$',fontsize=12, fontweight=\"bold\");\n",
        "plt.xlabel('Tiempo',fontsize=12, fontweight=\"bold\");"
      ]
    },
    {
      "cell_type": "markdown",
      "id": "2ff3af37",
      "metadata": {
        "id": "2ff3af37"
      },
      "source": [
        "### Graficamente observamos que las mujeres tardan un poco mas de tiempo en entregar el examen a comparación de los hombres"
      ]
    },
    {
      "cell_type": "markdown",
      "id": "299c553f",
      "metadata": {
        "id": "299c553f"
      },
      "source": [
        "# d)"
      ]
    },
    {
      "cell_type": "code",
      "execution_count": null,
      "id": "3e9be480",
      "metadata": {
        "id": "3e9be480"
      },
      "outputs": [],
      "source": [
        "from lifelines import KaplanMeierFitter"
      ]
    },
    {
      "cell_type": "code",
      "execution_count": null,
      "id": "2ff7f61c",
      "metadata": {
        "id": "2ff7f61c"
      },
      "outputs": [],
      "source": [
        "km_exa=KaplanMeierFitter().fit(examenes['tiempo'],examenes['examen']) #AJUSTO MODELO KAPLAN MEIER"
      ]
    },
    {
      "cell_type": "code",
      "execution_count": null,
      "id": "76c789bd",
      "metadata": {
        "id": "76c789bd",
        "outputId": "6fe11a68-1929-4344-a553-792ba3843e4f",
        "colab": {
          "base_uri": "https://localhost:8080/",
          "height": 582
        }
      },
      "outputs": [
        {
          "output_type": "execute_result",
          "data": {
            "text/plain": [
              "          KM_estimate\n",
              "timeline             \n",
              "0.0          1.000000\n",
              "85.0         0.941176\n",
              "87.0         0.882353\n",
              "90.0         0.823529\n",
              "99.0         0.764706\n",
              "103.0        0.705882\n",
              "106.0        0.647059\n",
              "108.0        0.529412\n",
              "109.0        0.470588\n",
              "111.0        0.411765\n",
              "112.0        0.352941\n",
              "115.0        0.294118\n",
              "116.0        0.235294\n",
              "118.0        0.176471\n",
              "119.0        0.058824\n",
              "120.0        0.000000"
            ],
            "text/html": [
              "\n",
              "  <div id=\"df-f59f106d-142a-4618-8af0-2e31a70e4cc7\">\n",
              "    <div class=\"colab-df-container\">\n",
              "      <div>\n",
              "<style scoped>\n",
              "    .dataframe tbody tr th:only-of-type {\n",
              "        vertical-align: middle;\n",
              "    }\n",
              "\n",
              "    .dataframe tbody tr th {\n",
              "        vertical-align: top;\n",
              "    }\n",
              "\n",
              "    .dataframe thead th {\n",
              "        text-align: right;\n",
              "    }\n",
              "</style>\n",
              "<table border=\"1\" class=\"dataframe\">\n",
              "  <thead>\n",
              "    <tr style=\"text-align: right;\">\n",
              "      <th></th>\n",
              "      <th>KM_estimate</th>\n",
              "    </tr>\n",
              "    <tr>\n",
              "      <th>timeline</th>\n",
              "      <th></th>\n",
              "    </tr>\n",
              "  </thead>\n",
              "  <tbody>\n",
              "    <tr>\n",
              "      <th>0.0</th>\n",
              "      <td>1.000000</td>\n",
              "    </tr>\n",
              "    <tr>\n",
              "      <th>85.0</th>\n",
              "      <td>0.941176</td>\n",
              "    </tr>\n",
              "    <tr>\n",
              "      <th>87.0</th>\n",
              "      <td>0.882353</td>\n",
              "    </tr>\n",
              "    <tr>\n",
              "      <th>90.0</th>\n",
              "      <td>0.823529</td>\n",
              "    </tr>\n",
              "    <tr>\n",
              "      <th>99.0</th>\n",
              "      <td>0.764706</td>\n",
              "    </tr>\n",
              "    <tr>\n",
              "      <th>103.0</th>\n",
              "      <td>0.705882</td>\n",
              "    </tr>\n",
              "    <tr>\n",
              "      <th>106.0</th>\n",
              "      <td>0.647059</td>\n",
              "    </tr>\n",
              "    <tr>\n",
              "      <th>108.0</th>\n",
              "      <td>0.529412</td>\n",
              "    </tr>\n",
              "    <tr>\n",
              "      <th>109.0</th>\n",
              "      <td>0.470588</td>\n",
              "    </tr>\n",
              "    <tr>\n",
              "      <th>111.0</th>\n",
              "      <td>0.411765</td>\n",
              "    </tr>\n",
              "    <tr>\n",
              "      <th>112.0</th>\n",
              "      <td>0.352941</td>\n",
              "    </tr>\n",
              "    <tr>\n",
              "      <th>115.0</th>\n",
              "      <td>0.294118</td>\n",
              "    </tr>\n",
              "    <tr>\n",
              "      <th>116.0</th>\n",
              "      <td>0.235294</td>\n",
              "    </tr>\n",
              "    <tr>\n",
              "      <th>118.0</th>\n",
              "      <td>0.176471</td>\n",
              "    </tr>\n",
              "    <tr>\n",
              "      <th>119.0</th>\n",
              "      <td>0.058824</td>\n",
              "    </tr>\n",
              "    <tr>\n",
              "      <th>120.0</th>\n",
              "      <td>0.000000</td>\n",
              "    </tr>\n",
              "  </tbody>\n",
              "</table>\n",
              "</div>\n",
              "      <button class=\"colab-df-convert\" onclick=\"convertToInteractive('df-f59f106d-142a-4618-8af0-2e31a70e4cc7')\"\n",
              "              title=\"Convert this dataframe to an interactive table.\"\n",
              "              style=\"display:none;\">\n",
              "        \n",
              "  <svg xmlns=\"http://www.w3.org/2000/svg\" height=\"24px\"viewBox=\"0 0 24 24\"\n",
              "       width=\"24px\">\n",
              "    <path d=\"M0 0h24v24H0V0z\" fill=\"none\"/>\n",
              "    <path d=\"M18.56 5.44l.94 2.06.94-2.06 2.06-.94-2.06-.94-.94-2.06-.94 2.06-2.06.94zm-11 1L8.5 8.5l.94-2.06 2.06-.94-2.06-.94L8.5 2.5l-.94 2.06-2.06.94zm10 10l.94 2.06.94-2.06 2.06-.94-2.06-.94-.94-2.06-.94 2.06-2.06.94z\"/><path d=\"M17.41 7.96l-1.37-1.37c-.4-.4-.92-.59-1.43-.59-.52 0-1.04.2-1.43.59L10.3 9.45l-7.72 7.72c-.78.78-.78 2.05 0 2.83L4 21.41c.39.39.9.59 1.41.59.51 0 1.02-.2 1.41-.59l7.78-7.78 2.81-2.81c.8-.78.8-2.07 0-2.86zM5.41 20L4 18.59l7.72-7.72 1.47 1.35L5.41 20z\"/>\n",
              "  </svg>\n",
              "      </button>\n",
              "      \n",
              "  <style>\n",
              "    .colab-df-container {\n",
              "      display:flex;\n",
              "      flex-wrap:wrap;\n",
              "      gap: 12px;\n",
              "    }\n",
              "\n",
              "    .colab-df-convert {\n",
              "      background-color: #E8F0FE;\n",
              "      border: none;\n",
              "      border-radius: 50%;\n",
              "      cursor: pointer;\n",
              "      display: none;\n",
              "      fill: #1967D2;\n",
              "      height: 32px;\n",
              "      padding: 0 0 0 0;\n",
              "      width: 32px;\n",
              "    }\n",
              "\n",
              "    .colab-df-convert:hover {\n",
              "      background-color: #E2EBFA;\n",
              "      box-shadow: 0px 1px 2px rgba(60, 64, 67, 0.3), 0px 1px 3px 1px rgba(60, 64, 67, 0.15);\n",
              "      fill: #174EA6;\n",
              "    }\n",
              "\n",
              "    [theme=dark] .colab-df-convert {\n",
              "      background-color: #3B4455;\n",
              "      fill: #D2E3FC;\n",
              "    }\n",
              "\n",
              "    [theme=dark] .colab-df-convert:hover {\n",
              "      background-color: #434B5C;\n",
              "      box-shadow: 0px 1px 3px 1px rgba(0, 0, 0, 0.15);\n",
              "      filter: drop-shadow(0px 1px 2px rgba(0, 0, 0, 0.3));\n",
              "      fill: #FFFFFF;\n",
              "    }\n",
              "  </style>\n",
              "\n",
              "      <script>\n",
              "        const buttonEl =\n",
              "          document.querySelector('#df-f59f106d-142a-4618-8af0-2e31a70e4cc7 button.colab-df-convert');\n",
              "        buttonEl.style.display =\n",
              "          google.colab.kernel.accessAllowed ? 'block' : 'none';\n",
              "\n",
              "        async function convertToInteractive(key) {\n",
              "          const element = document.querySelector('#df-f59f106d-142a-4618-8af0-2e31a70e4cc7');\n",
              "          const dataTable =\n",
              "            await google.colab.kernel.invokeFunction('convertToInteractive',\n",
              "                                                     [key], {});\n",
              "          if (!dataTable) return;\n",
              "\n",
              "          const docLinkHtml = 'Like what you see? Visit the ' +\n",
              "            '<a target=\"_blank\" href=https://colab.research.google.com/notebooks/data_table.ipynb>data table notebook</a>'\n",
              "            + ' to learn more about interactive tables.';\n",
              "          element.innerHTML = '';\n",
              "          dataTable['output_type'] = 'display_data';\n",
              "          await google.colab.output.renderOutput(dataTable, element);\n",
              "          const docLink = document.createElement('div');\n",
              "          docLink.innerHTML = docLinkHtml;\n",
              "          element.appendChild(docLink);\n",
              "        }\n",
              "      </script>\n",
              "    </div>\n",
              "  </div>\n",
              "  "
            ]
          },
          "metadata": {},
          "execution_count": 20
        }
      ],
      "source": [
        "km_exa.survival_function_"
      ]
    },
    {
      "cell_type": "code",
      "execution_count": null,
      "id": "cfb8a673",
      "metadata": {
        "id": "cfb8a673",
        "outputId": "cf027cf4-eca9-43fe-bd95-008d3f0a37e8",
        "colab": {
          "base_uri": "https://localhost:8080/",
          "height": 316
        }
      },
      "outputs": [
        {
          "output_type": "display_data",
          "data": {
            "text/plain": [
              "<Figure size 432x288 with 1 Axes>"
            ],
            "image/png": "[encoded data removed]"
          },
          "metadata": {
            "needs_background": "light"
          }
        }
      ],
      "source": [
        "km_exa.plot_survival_function(ci_show = False,label='Funcion de Supervivencia Alumnos',color='springgreen').legend(fontsize=11);\n",
        "plt.xlabel('Tiempo',fontsize=12, fontweight=\"bold\");\n",
        "plt.ylabel('S(t)',fontsize=12, fontweight=\"bold\");\n",
        "plt.title('Funcion de Supervivencia por Kaplan Meier \\n Intervalos al 95%',fontsize=14,fontweight='bold');"
      ]
    },
    {
      "cell_type": "markdown",
      "id": "e3256ffa",
      "metadata": {
        "id": "e3256ffa"
      },
      "source": [
        "# e)"
      ]
    },
    {
      "cell_type": "code",
      "execution_count": null,
      "id": "81b38be5",
      "metadata": {
        "id": "81b38be5"
      },
      "outputs": [],
      "source": [
        "kmmuj=KaplanMeierFitter().fit(muj['tiempo'],muj['examen']) #AJUSTO MODELO KAPLAN MEIER\n",
        "kmhomb=KaplanMeierFitter().fit(homb['tiempo'],homb['examen']) # AJUSTO MODELO KAPLAN MEIER"
      ]
    },
    {
      "cell_type": "code",
      "execution_count": null,
      "id": "a5609fe8",
      "metadata": {
        "id": "a5609fe8",
        "outputId": "870e75da-da94-43a4-9ec2-99d5600cd4ab",
        "colab": {
          "base_uri": "https://localhost:8080/",
          "height": 313
        }
      },
      "outputs": [
        {
          "output_type": "display_data",
          "data": {
            "text/plain": [
              "<Figure size 432x288 with 1 Axes>"
            ],
            "image/png": "[encoded data removed]"
          },
          "metadata": {
            "needs_background": "light"
          }
        }
      ],
      "source": [
        "kmmuj.plot_survival_function(label = 'Funcion de Supervivencia Mujeres',color='purple').legend(fontsize=10);\n",
        "kmhomb.plot_survival_function(label = 'Funcion de Supervivencia Hombres',color='green').legend(fontsize=10);\n",
        "plt.title('Función de supervivencia HOMBRES vs MUJERES,\\n Intervalos al 95%');\n",
        "plt.ylabel('$S(t)$',fontsize=12, fontweight=\"bold\");\n",
        "plt.xlabel('Tiempo',fontsize=12, fontweight=\"bold\");"
      ]
    },
    {
      "cell_type": "markdown",
      "id": "75d3ef1b",
      "metadata": {
        "id": "75d3ef1b"
      },
      "source": [
        "### Graficamente observamos que las mujeres tardan un poco mas de tiempo en entregar el examen a comparación de los hombres, sin embargo, realizare una prueba de hipotesis para ver si estas funciones de supervivencia son identicas\n",
        "\n",
        "# f)\n",
        "\n",
        "$ Ho: Shombres(t) = Smujeres(t) $\n",
        "\n",
        "$ Ha: Shombres(t) \\neq Smujeres(t) $"
      ]
    },
    {
      "cell_type": "code",
      "execution_count": null,
      "id": "e7b17399",
      "metadata": {
        "id": "e7b17399"
      },
      "outputs": [],
      "source": [
        "from lifelines.statistics import logrank_test"
      ]
    },
    {
      "cell_type": "code",
      "execution_count": null,
      "id": "42fcf36c",
      "metadata": {
        "id": "42fcf36c"
      },
      "outputs": [],
      "source": [
        "lrt=logrank_test( homb['tiempo'],muj['tiempo']\n",
        "                ,homb['examen'],muj['examen'])"
      ]
    },
    {
      "cell_type": "code",
      "execution_count": null,
      "id": "4887ef5a",
      "metadata": {
        "id": "4887ef5a",
        "outputId": "5623f4ac-c83b-4e43-e6fc-bbddf561bc18",
        "colab": {
          "base_uri": "https://localhost:8080/"
        }
      },
      "outputs": [
        {
          "output_type": "execute_result",
          "data": {
            "text/plain": [
              "<bound method StatisticalResult.print_summary of <lifelines.StatisticalResult: logrank_test>\n",
              "               t_0 = -1\n",
              " null_distribution = chi squared\n",
              "degrees_of_freedom = 1\n",
              "         test_name = logrank_test\n",
              "\n",
              "---\n",
              " test_statistic    p  -log2(p)\n",
              "           0.15 0.69      0.53>"
            ]
          },
          "metadata": {},
          "execution_count": 26
        }
      ],
      "source": [
        "lrt.print_summary"
      ]
    },
    {
      "cell_type": "markdown",
      "id": "d64f3ad8",
      "metadata": {
        "id": "d64f3ad8"
      },
      "source": [
        "p-value > $\\alpha$ **NO RECHAZAMOS HO**\n",
        "\n",
        "**Conclusion : a un 95% de confianza NO rechazamos Ho, significa que las funciones de supervivencia de hombres y mujeres son identicas**\n",
        "\n",
        "Podemos decir que el profesor no tenia razon en decir que las mujeres contestan mas rapido el examen que los hombres"
      ]
    },
    {
      "cell_type": "markdown",
      "id": "edb67931",
      "metadata": {
        "id": "edb67931"
      },
      "source": [
        "# g) y h)"
      ]
    },
    {
      "cell_type": "code",
      "execution_count": null,
      "id": "b1eaa8c3",
      "metadata": {
        "id": "b1eaa8c3"
      },
      "outputs": [],
      "source": [
        "from lifelines import CoxPHFitter"
      ]
    },
    {
      "cell_type": "code",
      "execution_count": null,
      "id": "b0ff204b",
      "metadata": {
        "id": "b0ff204b"
      },
      "outputs": [],
      "source": [
        "from pandas import get_dummies"
      ]
    },
    {
      "cell_type": "code",
      "execution_count": null,
      "id": "2ecec71b",
      "metadata": {
        "id": "2ecec71b"
      },
      "outputs": [],
      "source": [
        "# converting to binary data the gender column\n",
        "examenes1=examenes\n",
        "examenes1['género'] =pd.get_dummies(examenes1['género'])['m']"
      ]
    },
    {
      "cell_type": "code",
      "execution_count": null,
      "id": "65082142",
      "metadata": {
        "id": "65082142"
      },
      "outputs": [],
      "source": [
        "examenes1=examenes1.drop(['id'], axis=1) #Quitamos la variable de id porque no nos ayuda"
      ]
    },
    {
      "cell_type": "code",
      "execution_count": null,
      "id": "ea497bae",
      "metadata": {
        "id": "ea497bae",
        "outputId": "1aaf5310-5554-4e2a-91f1-1e155a910ace",
        "colab": {
          "base_uri": "https://localhost:8080/",
          "height": 582
        }
      },
      "outputs": [
        {
          "output_type": "execute_result",
          "data": {
            "text/plain": [
              "    tiempo  examen  calificación  género\n",
              "0       85       1         100.0       1\n",
              "1      109       1         100.0       1\n",
              "2      118       1         100.0       1\n",
              "3      120       1         100.0       0\n",
              "4      106       1          98.0       0\n",
              "5      103       1          98.0       1\n",
              "6      108       1          96.0       0\n",
              "7      119       1          96.0       0\n",
              "8      115       1          96.0       0\n",
              "9      108       1          94.0       0\n",
              "10      87       1          88.0       1\n",
              "11      99       1          86.0       0\n",
              "12     112       1          84.0       1\n",
              "13     111       1          82.0       1\n",
              "14      90       1          78.0       0\n",
              "15     116       1          74.0       1\n",
              "16     119       1          72.0       1"
            ],
            "text/html": [
              "\n",
              "  <div id=\"df-badd8d56-4691-461c-9038-07e6e7d9a807\">\n",
              "    <div class=\"colab-df-container\">\n",
              "      <div>\n",
              "<style scoped>\n",
              "    .dataframe tbody tr th:only-of-type {\n",
              "        vertical-align: middle;\n",
              "    }\n",
              "\n",
              "    .dataframe tbody tr th {\n",
              "        vertical-align: top;\n",
              "    }\n",
              "\n",
              "    .dataframe thead th {\n",
              "        text-align: right;\n",
              "    }\n",
              "</style>\n",
              "<table border=\"1\" class=\"dataframe\">\n",
              "  <thead>\n",
              "    <tr style=\"text-align: right;\">\n",
              "      <th></th>\n",
              "      <th>tiempo</th>\n",
              "      <th>examen</th>\n",
              "      <th>calificación</th>\n",
              "      <th>género</th>\n",
              "    </tr>\n",
              "  </thead>\n",
              "  <tbody>\n",
              "    <tr>\n",
              "      <th>0</th>\n",
              "      <td>85</td>\n",
              "      <td>1</td>\n",
              "      <td>100.0</td>\n",
              "      <td>1</td>\n",
              "    </tr>\n",
              "    <tr>\n",
              "      <th>1</th>\n",
              "      <td>109</td>\n",
              "      <td>1</td>\n",
              "      <td>100.0</td>\n",
              "      <td>1</td>\n",
              "    </tr>\n",
              "    <tr>\n",
              "      <th>2</th>\n",
              "      <td>118</td>\n",
              "      <td>1</td>\n",
              "      <td>100.0</td>\n",
              "      <td>1</td>\n",
              "    </tr>\n",
              "    <tr>\n",
              "      <th>3</th>\n",
              "      <td>120</td>\n",
              "      <td>1</td>\n",
              "      <td>100.0</td>\n",
              "      <td>0</td>\n",
              "    </tr>\n",
              "    <tr>\n",
              "      <th>4</th>\n",
              "      <td>106</td>\n",
              "      <td>1</td>\n",
              "      <td>98.0</td>\n",
              "      <td>0</td>\n",
              "    </tr>\n",
              "    <tr>\n",
              "      <th>5</th>\n",
              "      <td>103</td>\n",
              "      <td>1</td>\n",
              "      <td>98.0</td>\n",
              "      <td>1</td>\n",
              "    </tr>\n",
              "    <tr>\n",
              "      <th>6</th>\n",
              "      <td>108</td>\n",
              "      <td>1</td>\n",
              "      <td>96.0</td>\n",
              "      <td>0</td>\n",
              "    </tr>\n",
              "    <tr>\n",
              "      <th>7</th>\n",
              "      <td>119</td>\n",
              "      <td>1</td>\n",
              "      <td>96.0</td>\n",
              "      <td>0</td>\n",
              "    </tr>\n",
              "    <tr>\n",
              "      <th>8</th>\n",
              "      <td>115</td>\n",
              "      <td>1</td>\n",
              "      <td>96.0</td>\n",
              "      <td>0</td>\n",
              "    </tr>\n",
              "    <tr>\n",
              "      <th>9</th>\n",
              "      <td>108</td>\n",
              "      <td>1</td>\n",
              "      <td>94.0</td>\n",
              "      <td>0</td>\n",
              "    </tr>\n",
              "    <tr>\n",
              "      <th>10</th>\n",
              "      <td>87</td>\n",
              "      <td>1</td>\n",
              "      <td>88.0</td>\n",
              "      <td>1</td>\n",
              "    </tr>\n",
              "    <tr>\n",
              "      <th>11</th>\n",
              "      <td>99</td>\n",
              "      <td>1</td>\n",
              "      <td>86.0</td>\n",
              "      <td>0</td>\n",
              "    </tr>\n",
              "    <tr>\n",
              "      <th>12</th>\n",
              "      <td>112</td>\n",
              "      <td>1</td>\n",
              "      <td>84.0</td>\n",
              "      <td>1</td>\n",
              "    </tr>\n",
              "    <tr>\n",
              "      <th>13</th>\n",
              "      <td>111</td>\n",
              "      <td>1</td>\n",
              "      <td>82.0</td>\n",
              "      <td>1</td>\n",
              "    </tr>\n",
              "    <tr>\n",
              "      <th>14</th>\n",
              "      <td>90</td>\n",
              "      <td>1</td>\n",
              "      <td>78.0</td>\n",
              "      <td>0</td>\n",
              "    </tr>\n",
              "    <tr>\n",
              "      <th>15</th>\n",
              "      <td>116</td>\n",
              "      <td>1</td>\n",
              "      <td>74.0</td>\n",
              "      <td>1</td>\n",
              "    </tr>\n",
              "    <tr>\n",
              "      <th>16</th>\n",
              "      <td>119</td>\n",
              "      <td>1</td>\n",
              "      <td>72.0</td>\n",
              "      <td>1</td>\n",
              "    </tr>\n",
              "  </tbody>\n",
              "</table>\n",
              "</div>\n",
              "      <button class=\"colab-df-convert\" onclick=\"convertToInteractive('df-badd8d56-4691-461c-9038-07e6e7d9a807')\"\n",
              "              title=\"Convert this dataframe to an interactive table.\"\n",
              "              style=\"display:none;\">\n",
              "        \n",
              "  <svg xmlns=\"http://www.w3.org/2000/svg\" height=\"24px\"viewBox=\"0 0 24 24\"\n",
              "       width=\"24px\">\n",
              "    <path d=\"M0 0h24v24H0V0z\" fill=\"none\"/>\n",
              "    <path d=\"M18.56 5.44l.94 2.06.94-2.06 2.06-.94-2.06-.94-.94-2.06-.94 2.06-2.06.94zm-11 1L8.5 8.5l.94-2.06 2.06-.94-2.06-.94L8.5 2.5l-.94 2.06-2.06.94zm10 10l.94 2.06.94-2.06 2.06-.94-2.06-.94-.94-2.06-.94 2.06-2.06.94z\"/><path d=\"M17.41 7.96l-1.37-1.37c-.4-.4-.92-.59-1.43-.59-.52 0-1.04.2-1.43.59L10.3 9.45l-7.72 7.72c-.78.78-.78 2.05 0 2.83L4 21.41c.39.39.9.59 1.41.59.51 0 1.02-.2 1.41-.59l7.78-7.78 2.81-2.81c.8-.78.8-2.07 0-2.86zM5.41 20L4 18.59l7.72-7.72 1.47 1.35L5.41 20z\"/>\n",
              "  </svg>\n",
              "      </button>\n",
              "      \n",
              "  <style>\n",
              "    .colab-df-container {\n",
              "      display:flex;\n",
              "      flex-wrap:wrap;\n",
              "      gap: 12px;\n",
              "    }\n",
              "\n",
              "    .colab-df-convert {\n",
              "      background-color: #E8F0FE;\n",
              "      border: none;\n",
              "      border-radius: 50%;\n",
              "      cursor: pointer;\n",
              "      display: none;\n",
              "      fill: #1967D2;\n",
              "      height: 32px;\n",
              "      padding: 0 0 0 0;\n",
              "      width: 32px;\n",
              "    }\n",
              "\n",
              "    .colab-df-convert:hover {\n",
              "      background-color: #E2EBFA;\n",
              "      box-shadow: 0px 1px 2px rgba(60, 64, 67, 0.3), 0px 1px 3px 1px rgba(60, 64, 67, 0.15);\n",
              "      fill: #174EA6;\n",
              "    }\n",
              "\n",
              "    [theme=dark] .colab-df-convert {\n",
              "      background-color: #3B4455;\n",
              "      fill: #D2E3FC;\n",
              "    }\n",
              "\n",
              "    [theme=dark] .colab-df-convert:hover {\n",
              "      background-color: #434B5C;\n",
              "      box-shadow: 0px 1px 3px 1px rgba(0, 0, 0, 0.15);\n",
              "      filter: drop-shadow(0px 1px 2px rgba(0, 0, 0, 0.3));\n",
              "      fill: #FFFFFF;\n",
              "    }\n",
              "  </style>\n",
              "\n",
              "      <script>\n",
              "        const buttonEl =\n",
              "          document.querySelector('#df-badd8d56-4691-461c-9038-07e6e7d9a807 button.colab-df-convert');\n",
              "        buttonEl.style.display =\n",
              "          google.colab.kernel.accessAllowed ? 'block' : 'none';\n",
              "\n",
              "        async function convertToInteractive(key) {\n",
              "          const element = document.querySelector('#df-badd8d56-4691-461c-9038-07e6e7d9a807');\n",
              "          const dataTable =\n",
              "            await google.colab.kernel.invokeFunction('convertToInteractive',\n",
              "                                                     [key], {});\n",
              "          if (!dataTable) return;\n",
              "\n",
              "          const docLinkHtml = 'Like what you see? Visit the ' +\n",
              "            '<a target=\"_blank\" href=https://colab.research.google.com/notebooks/data_table.ipynb>data table notebook</a>'\n",
              "            + ' to learn more about interactive tables.';\n",
              "          element.innerHTML = '';\n",
              "          dataTable['output_type'] = 'display_data';\n",
              "          await google.colab.output.renderOutput(dataTable, element);\n",
              "          const docLink = document.createElement('div');\n",
              "          docLink.innerHTML = docLinkHtml;\n",
              "          element.appendChild(docLink);\n",
              "        }\n",
              "      </script>\n",
              "    </div>\n",
              "  </div>\n",
              "  "
            ]
          },
          "metadata": {},
          "execution_count": 31
        }
      ],
      "source": [
        "examenes1"
      ]
    },
    {
      "cell_type": "code",
      "execution_count": null,
      "id": "f802e676",
      "metadata": {
        "id": "f802e676",
        "outputId": "73508962-470d-477e-94da-963ba4069162",
        "colab": {
          "base_uri": "https://localhost:8080/",
          "height": 505
        }
      },
      "outputs": [
        {
          "output_type": "display_data",
          "data": {
            "text/plain": [
              "<lifelines.CoxPHFitter: fitted with 17 total observations, 0 right-censored observations>\n",
              "             duration col = 'tiempo'\n",
              "                event col = 'examen'\n",
              "      baseline estimation = breslow\n",
              "   number of observations = 17\n",
              "number of events observed = 17\n",
              "   partial log-likelihood = -33.40\n",
              "         time fit was run = 2023-03-17 05:44:07 UTC\n",
              "\n",
              "---\n",
              "               coef  exp(coef)   se(coef)   coef lower 95%   coef upper 95%  exp(coef) lower 95%  exp(coef) upper 95%\n",
              "covariate                                                                                                            \n",
              "calificación   0.01       1.01       0.03            -0.05             0.06                 0.95                 1.06\n",
              "género         0.29       1.33       0.61            -0.91             1.48                 0.40                 4.39\n",
              "\n",
              "               cmp to    z    p   -log2(p)\n",
              "covariate                                 \n",
              "calificación     0.00 0.25 0.80       0.32\n",
              "género           0.00 0.47 0.64       0.65\n",
              "---\n",
              "Concordance = 0.50\n",
              "Partial AIC = 70.79\n",
              "log-likelihood ratio test = 0.22 on 2 df\n",
              "-log2(p) of ll-ratio test = 0.16"
            ],
            "text/html": [
              "<div>\n",
              "<style scoped>\n",
              "    .dataframe tbody tr th:only-of-type {\n",
              "        vertical-align: middle;\n",
              "    }\n",
              "\n",
              "    .dataframe tbody tr th {\n",
              "        vertical-align: top;\n",
              "    }\n",
              "\n",
              "    .dataframe thead th {\n",
              "        text-align: right;\n",
              "    }\n",
              "</style>\n",
              "<table border=\"1\" class=\"dataframe\">\n",
              "  <tbody>\n",
              "    <tr>\n",
              "      <th>model</th>\n",
              "      <td>lifelines.CoxPHFitter</td>\n",
              "    </tr>\n",
              "    <tr>\n",
              "      <th>duration col</th>\n",
              "      <td>'tiempo'</td>\n",
              "    </tr>\n",
              "    <tr>\n",
              "      <th>event col</th>\n",
              "      <td>'examen'</td>\n",
              "    </tr>\n",
              "    <tr>\n",
              "      <th>baseline estimation</th>\n",
              "      <td>breslow</td>\n",
              "    </tr>\n",
              "    <tr>\n",
              "      <th>number of observations</th>\n",
              "      <td>17</td>\n",
              "    </tr>\n",
              "    <tr>\n",
              "      <th>number of events observed</th>\n",
              "      <td>17</td>\n",
              "    </tr>\n",
              "    <tr>\n",
              "      <th>partial log-likelihood</th>\n",
              "      <td>-33.40</td>\n",
              "    </tr>\n",
              "    <tr>\n",
              "      <th>time fit was run</th>\n",
              "      <td>2023-03-17 05:44:07 UTC</td>\n",
              "    </tr>\n",
              "  </tbody>\n",
              "</table>\n",
              "</div><table border=\"1\" class=\"dataframe\">\n",
              "  <thead>\n",
              "    <tr style=\"text-align: right;\">\n",
              "      <th style=\"min-width: 12px;\"></th>\n",
              "      <th style=\"min-width: 12px;\">coef</th>\n",
              "      <th style=\"min-width: 12px;\">exp(coef)</th>\n",
              "      <th style=\"min-width: 12px;\">se(coef)</th>\n",
              "      <th style=\"min-width: 12px;\">coef lower 95%</th>\n",
              "      <th style=\"min-width: 12px;\">coef upper 95%</th>\n",
              "      <th style=\"min-width: 12px;\">exp(coef) lower 95%</th>\n",
              "      <th style=\"min-width: 12px;\">exp(coef) upper 95%</th>\n",
              "      <th style=\"min-width: 12px;\">cmp to</th>\n",
              "      <th style=\"min-width: 12px;\">z</th>\n",
              "      <th style=\"min-width: 12px;\">p</th>\n",
              "      <th style=\"min-width: 12px;\">-log2(p)</th>\n",
              "    </tr>\n",
              "  </thead>\n",
              "  <tbody>\n",
              "    <tr>\n",
              "      <th>calificación</th>\n",
              "      <td>0.01</td>\n",
              "      <td>1.01</td>\n",
              "      <td>0.03</td>\n",
              "      <td>-0.05</td>\n",
              "      <td>0.06</td>\n",
              "      <td>0.95</td>\n",
              "      <td>1.06</td>\n",
              "      <td>0.00</td>\n",
              "      <td>0.25</td>\n",
              "      <td>0.80</td>\n",
              "      <td>0.32</td>\n",
              "    </tr>\n",
              "    <tr>\n",
              "      <th>género</th>\n",
              "      <td>0.29</td>\n",
              "      <td>1.33</td>\n",
              "      <td>0.61</td>\n",
              "      <td>-0.91</td>\n",
              "      <td>1.48</td>\n",
              "      <td>0.40</td>\n",
              "      <td>4.39</td>\n",
              "      <td>0.00</td>\n",
              "      <td>0.47</td>\n",
              "      <td>0.64</td>\n",
              "      <td>0.65</td>\n",
              "    </tr>\n",
              "  </tbody>\n",
              "</table><br><div>\n",
              "<style scoped>\n",
              "    .dataframe tbody tr th:only-of-type {\n",
              "        vertical-align: middle;\n",
              "    }\n",
              "\n",
              "    .dataframe tbody tr th {\n",
              "        vertical-align: top;\n",
              "    }\n",
              "\n",
              "    .dataframe thead th {\n",
              "        text-align: right;\n",
              "    }\n",
              "</style>\n",
              "<table border=\"1\" class=\"dataframe\">\n",
              "  <tbody>\n",
              "    <tr>\n",
              "      <th>Concordance</th>\n",
              "      <td>0.50</td>\n",
              "    </tr>\n",
              "    <tr>\n",
              "      <th>Partial AIC</th>\n",
              "      <td>70.79</td>\n",
              "    </tr>\n",
              "    <tr>\n",
              "      <th>log-likelihood ratio test</th>\n",
              "      <td>0.22 on 2 df</td>\n",
              "    </tr>\n",
              "    <tr>\n",
              "      <th>-log2(p) of ll-ratio test</th>\n",
              "      <td>0.16</td>\n",
              "    </tr>\n",
              "  </tbody>\n",
              "</table>\n",
              "</div>"
            ],
            "text/latex": "\\begin{tabular}{lrrrrrrrrrrr}\n & coef & exp(coef) & se(coef) & coef lower 95% & coef upper 95% & exp(coef) lower 95% & exp(coef) upper 95% & cmp to & z & p & -log2(p) \\\\\ncovariate &  &  &  &  &  &  &  &  &  &  &  \\\\\ncalificación & 0.01 & 1.01 & 0.03 & -0.05 & 0.06 & 0.95 & 1.06 & 0.00 & 0.25 & 0.80 & 0.32 \\\\\ngénero & 0.29 & 1.33 & 0.61 & -0.91 & 1.48 & 0.40 & 4.39 & 0.00 & 0.47 & 0.64 & 0.65 \\\\\n\\end{tabular}\n"
          },
          "metadata": {}
        }
      ],
      "source": [
        "# Modelo Cox de riesgos Proporcionales\n",
        "cph= CoxPHFitter().fit(examenes1,'tiempo','examen')\n",
        "cph.print_summary()"
      ]
    },
    {
      "cell_type": "markdown",
      "id": "8b754fb1",
      "metadata": {
        "id": "8b754fb1"
      },
      "source": [
        "### Prueba de significancia\n",
        "\n",
        "La prueba de significancia de la regresion es para determinar si hay una relacion lineal entre la respuesta y la variable regresora. Las hipotesis correspondientes son\n",
        "\n",
        "\n",
        "$ Ho: B1=0 $  **Variables no muestran relacion**\n",
        "\n",
        "$ Ha: B1\\neq0 $ **Variables muestran relacion**\n",
        "\n",
        "**Bajo el criterio del p-valor rechazo Ho si $ p-valor<\\alpha $ donde $ \\alpha = 0.05 $ es el nivel de significancia de la prueba**\n",
        "\n",
        "Como **p-valor**>0.05, **NO** rechazo Ho , las variables **calificación** y **género** no son significativas , es decir no muestran relacion con entregar el examen"
      ]
    },
    {
      "cell_type": "code",
      "execution_count": null,
      "id": "8ff2f7e1",
      "metadata": {
        "id": "8ff2f7e1",
        "outputId": "56d13c74-58d3-4303-9833-85aa5bb2950e",
        "colab": {
          "base_uri": "https://localhost:8080/",
          "height": 296
        }
      },
      "outputs": [
        {
          "output_type": "execute_result",
          "data": {
            "text/plain": [
              "<Axes: xlabel='log(HR) (95% CI)'>"
            ]
          },
          "metadata": {},
          "execution_count": 33
        },
        {
          "output_type": "display_data",
          "data": {
            "text/plain": [
              "<Figure size 432x288 with 1 Axes>"
            ],
            "image/png": "[encoded data removed]"
          },
          "metadata": {
            "needs_background": "light"
          }
        }
      ],
      "source": [
        "cph.plot()"
      ]
    },
    {
      "cell_type": "markdown",
      "id": "00f354bd",
      "metadata": {
        "id": "00f354bd"
      },
      "source": [
        "# i)"
      ]
    },
    {
      "cell_type": "markdown",
      "id": "97ff6524",
      "metadata": {
        "id": "97ff6524"
      },
      "source": [
        "## MODELO COX FUNCIONES DE SUPERVIVENCIA"
      ]
    },
    {
      "cell_type": "code",
      "execution_count": null,
      "id": "d78d9d91",
      "metadata": {
        "id": "d78d9d91"
      },
      "outputs": [],
      "source": [
        "examenes2=examenes1.drop(['examen'], axis=1) #Quitamos la variable de examen porque esta llena de 1s"
      ]
    },
    {
      "cell_type": "code",
      "execution_count": null,
      "id": "a7d02b85",
      "metadata": {
        "id": "a7d02b85",
        "outputId": "0f5f0744-48aa-45b1-f6ef-6351cef0e006",
        "colab": {
          "base_uri": "https://localhost:8080/",
          "height": 313
        }
      },
      "outputs": [
        {
          "output_type": "display_data",
          "data": {
            "text/plain": [
              "<Figure size 432x288 with 1 Axes>"
            ],
            "image/png": "[encoded data removed]"
          },
          "metadata": {
            "needs_background": "light"
          }
        }
      ],
      "source": [
        "cphsurv= CoxPHFitter().fit(examenes2,'tiempo','calificación')\n",
        "cphsurv.plot_partial_effects_on_outcome(covariates='género',values=[0,1],color=['fuchsia','black']) #0 es mujer, 1 es hombre macho pecho peludo\n",
        "plt.title('Función de supervivencia HOMBRES vs MUJERES,\\n Intervalos al 95%');\n",
        "plt.ylabel('$S(t)$',fontsize=12, fontweight=\"bold\");\n",
        "plt.xlabel('Tiempo',fontsize=12, fontweight=\"bold\");"
      ]
    },
    {
      "cell_type": "markdown",
      "id": "0f641a5e",
      "metadata": {
        "id": "0f641a5e"
      },
      "source": [
        "## MODELO KAPLAN MEIER FUNCIONES DE SUPERVIVENCIA"
      ]
    },
    {
      "cell_type": "code",
      "execution_count": null,
      "id": "9d32a862",
      "metadata": {
        "id": "9d32a862",
        "outputId": "b59f4aec-dd37-4239-fdbe-8d3cb4710002",
        "colab": {
          "base_uri": "https://localhost:8080/",
          "height": 313
        }
      },
      "outputs": [
        {
          "output_type": "display_data",
          "data": {
            "text/plain": [
              "<Figure size 432x288 with 1 Axes>"
            ],
            "image/png": "[encoded data removed]"
          },
          "metadata": {
            "needs_background": "light"
          }
        }
      ],
      "source": [
        "kmmuj.plot_survival_function(label = 'Funcion de Supervivencia Mujeres',color='purple').legend(fontsize=10);\n",
        "kmhomb.plot_survival_function(label = 'Funcion de Supervivencia Hombres',color='green').legend(fontsize=10);\n",
        "plt.title('Función de supervivencia HOMBRES vs MUJERES,\\n Intervalos al 95%');\n",
        "plt.ylabel('$S(t)$',fontsize=12, fontweight=\"bold\");\n",
        "plt.xlabel('Tiempo',fontsize=12, fontweight=\"bold\");"
      ]
    },
    {
      "cell_type": "markdown",
      "id": "71a53f9a",
      "metadata": {
        "id": "71a53f9a"
      },
      "source": [
        "## CONCLUSION\n",
        "\n",
        "### Podemos notar que las funciones de supervivencia en ambos modelos se comportan de la misma manera, las funciones de supervivencia de los modelos Cox y Kaplen-Meier obtienen resultados similares,aunque podemos observar que las mujeres graficamente tardan un poquito mas que los hombres en entregar el examen, realmente podemos decir que sus funciones de supervivencia en ambos generos son identicas"
      ]
    },
    {
      "cell_type": "markdown",
      "id": "894b87a4",
      "metadata": {
        "id": "894b87a4"
      },
      "source": [
        "# j)             Justificación"
      ]
    },
    {
      "cell_type": "markdown",
      "id": "e91738db",
      "metadata": {
        "id": "e91738db"
      },
      "source": [
        "### En base al modelo Cox pudimos observar que ser hombre o mujer no se relaciona significativamente con el evento de entregar el examen y de igual manera resalto que tener una alta o baja calificacion no se relaciona significativamente con entregar el examen, y en base a las graficas de las funciones de supervivencia de los modelos exponencial, cox y Kaplan Meier son meramente identicas ambas funciones, ademas de esto lo fundamento con la pruebas de hipotesis del modelo Keplen-Meier en el que tiene como resultado la aceptación de la hipotesis nula la cual nos dice que ambas funciones de supervivencia son identicas.\n",
        "\n",
        "### Con lo anteriormente dicho puedo decir que el profesor NO tenia razon en decir que las alumnas contestan mas rapido el examen y tampoco tenia razon en decir que los que no estudiaron entregaban mas rapido el examen y obtenian menores calificaciones\n",
        "\n",
        "# EL PROFESOR NO TENIA RAZON"
      ]
    },
    {
      "cell_type": "code",
      "source": [],
      "metadata": {
        "id": "J7s0ORrPGOYt"
      },
      "id": "J7s0ORrPGOYt",
      "execution_count": null,
      "outputs": []
    }
  ],
  "metadata": {
    "colab": {
      "provenance": [],
      "include_colab_link": true
    },
    "kernelspec": {
      "display_name": "Python 3 (ipykernel)",
      "language": "python",
      "name": "python3"
    },
    "language_info": {
      "codemirror_mode": {
        "name": "ipython",
        "version": 3
      },
      "file_extension": ".py",
      "mimetype": "text/x-python",
      "name": "python",
      "nbconvert_exporter": "python",
      "pygments_lexer": "ipython3",
      "version": "3.9.12"
    }
  },
  "nbformat": 4,
  "nbformat_minor": 5
}